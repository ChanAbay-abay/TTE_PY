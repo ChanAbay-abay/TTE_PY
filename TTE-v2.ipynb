{
 "cells": [
  {
   "cell_type": "markdown",
   "metadata": {},
   "source": [
    "<center>\n",
    "    <h1>Target Trial Emulation</h1>\n",
    "    By Christian Abay-abay & Thristan Jay Nakila\n",
    "</center>\n",
    "\n",
    "## **Instructions**\n",
    "\n",
    "1. Extract the dummy data from [RPubs - TTE](https://rpubs.com/alanyang0924/TTE) and save it as `data_censored.csv`.\n",
    "2. Convert the R code to Python in a Jupyter Notebook, ensuring the results match the original.\n",
    "3. Create a second version (`TTE-v2.ipynb`) with additional analysis.\n",
    "4. Integrate clustering in `TTE-v2`, determine where it fits, and generate insights.\n",
    "5. Work in pairs, preferably with your thesis partner.\n",
    "6. Push your Jupyter Notebooks (`TTE.ipynb` and `TTE-v2.ipynb`) to GitHub.\n",
    "7. 📅 **Deadline:** February 28, 2025, at **11:59 PM**.\n"
   ]
  },
  {
   "cell_type": "markdown",
   "metadata": {},
   "source": [
    "***\n",
    "<center>\n",
    "    <h2>Converting R Code to Python</h2>\n",
    "    R Code from [RPubs - TTE](https://rpubs.com/alanyang0924/TTE) converted to Python code for this notebook.\n",
    "</center>"
   ]
  },
  {
   "cell_type": "markdown",
   "metadata": {},
   "source": [
    "### 1. Setting Up - Define Estimand and Create Directories"
   ]
  },
  {
   "cell_type": "code",
   "execution_count": 1,
   "metadata": {},
   "outputs": [],
   "source": [
    "trial_itt = {\n",
    "    \"estimand\": \"ITT\",\n",
    "    \"directory\": \"temp/trial_itt\"\n",
    "}"
   ]
  },
  {
   "cell_type": "markdown",
   "metadata": {},
   "source": [
    "### 2. Load Data\n",
    "This loads data_censored.csv and inspects the first few rows."
   ]
  },
  {
   "cell_type": "code",
   "execution_count": 2,
   "metadata": {},
   "outputs": [
    {
     "name": "stdout",
     "output_type": "stream",
     "text": [
      "   id  period  treatment  x1        x2  x3        x4  age     age_s  outcome  \\\n",
      "0   1       0          1   1  1.146148   0  0.734203   36  0.083333        0   \n",
      "1   1       1          1   1  0.002200   0  0.734203   37  0.166667        0   \n",
      "2   1       2          1   0 -0.481762   0  0.734203   38  0.250000        0   \n",
      "3   1       3          1   0  0.007872   0  0.734203   39  0.333333        0   \n",
      "4   1       4          1   1  0.216054   0  0.734203   40  0.416667        0   \n",
      "\n",
      "   censored  eligible  \n",
      "0         0         1  \n",
      "1         0         0  \n",
      "2         0         0  \n",
      "3         0         0  \n",
      "4         0         0  \n"
     ]
    }
   ],
   "source": [
    "import pandas as pd\n",
    "\n",
    "file_path = 'data/data_censored.csv'\n",
    "data_censored = pd.read_csv(file_path)\n",
    "\n",
    "trial_itt = {\n",
    "    \"estimand\": \"ITT\",\n",
    "    \"directory\": \"temp/trial_itt\",\n",
    "    \"data\": data_censored\n",
    "}\n",
    "\n",
    "print(data_censored.head())"
   ]
  },
  {
   "cell_type": "markdown",
   "metadata": {},
   "source": [
    "### 3. Fit Censoring Weight Models\n",
    "Fit two logistic regression models — numerator and denominator for inverse probability of censoring weights (IPCW)."
   ]
  },
  {
   "cell_type": "code",
   "execution_count": 3,
   "metadata": {},
   "outputs": [],
   "source": [
    "import statsmodels.api as sm\n",
    "\n",
    "data_censored['not_censored'] = 1 - data_censored['censored']\n",
    "\n",
    "numerator_model = sm.Logit(\n",
    "    data_censored['not_censored'],\n",
    "    sm.add_constant(data_censored[['x2']])\n",
    ").fit(disp=0)\n",
    "\n",
    "denominator_model = sm.Logit(\n",
    "    data_censored['not_censored'],\n",
    "    sm.add_constant(data_censored[['x2', 'x1']])\n",
    ").fit(disp=0)\n",
    "\n",
    "data_censored['p_numerator'] = numerator_model.predict(sm.add_constant(data_censored[['x2']]))\n",
    "data_censored['p_denominator'] = denominator_model.predict(sm.add_constant(data_censored[['x2', 'x1']]))\n",
    "\n",
    "data_censored['weight'] = data_censored['p_numerator'] / data_censored['p_denominator']\n",
    "\n",
    "trial_itt['data'] = data_censored"
   ]
  },
  {
   "cell_type": "markdown",
   "metadata": {},
   "source": [
    "### 4. Expand Data - Baseline Setup\n",
    "Only keep period 1 data (entry point into the trial)."
   ]
  },
  {
   "cell_type": "code",
   "execution_count": 4,
   "metadata": {},
   "outputs": [],
   "source": [
    "expanded_data = data_censored[data_censored['period'] == 1].copy()"
   ]
  },
  {
   "cell_type": "markdown",
   "metadata": {},
   "source": [
    "### 5. Generate Follow-Up Time and Assigned Treatment\n",
    "Expand each row to 11 rows (follow-up 0 to 10), and create required columns."
   ]
  },
  {
   "cell_type": "code",
   "execution_count": 5,
   "metadata": {},
   "outputs": [
    {
     "name": "stdout",
     "output_type": "stream",
     "text": [
      "Step 5-6 Outcome Distribution:\n",
      "outcome\n",
      "0.0    675\n",
      "1.0      7\n",
      "Name: count, dtype: int64\n",
      "                 Generalized Linear Model Regression Results                  \n",
      "==============================================================================\n",
      "Dep. Variable:                outcome   No. Observations:                  682\n",
      "Model:                            GLM   Df Residuals:                   677.55\n",
      "Model Family:                Binomial   Df Model:                            4\n",
      "Link Function:                  Logit   Scale:                          1.0000\n",
      "Method:                          IRLS   Log-Likelihood:                -35.667\n",
      "Date:                Wed, 05 Mar 2025   Deviance:                       71.333\n",
      "Time:                        02:26:38   Pearson chi2:                 1.63e+03\n",
      "No. Iterations:                     9   Pseudo R-squ. (CS):            0.01082\n",
      "Covariance Type:            nonrobust                                         \n",
      "=========================================================================================\n",
      "                            coef    std err          z      P>|z|      [0.025      0.975]\n",
      "-----------------------------------------------------------------------------------------\n",
      "const                    -8.7280      2.599     -3.358      0.001     -13.822      -3.634\n",
      "assigned_treatment        0.4161      0.847      0.491      0.623      -1.244       2.076\n",
      "x2                       -0.7787      0.446     -1.746      0.081      -1.653       0.095\n",
      "followup_time             1.3604      0.872      1.560      0.119      -0.349       3.069\n",
      "followup_time_squared    -0.1121      0.073     -1.531      0.126      -0.256       0.031\n",
      "=========================================================================================\n"
     ]
    }
   ],
   "source": [
    "import numpy as np\n",
    "import statsmodels.api as sm\n",
    "\n",
    "# 5. Expand data for follow-up times (0 to 10)\n",
    "expanded_data = data_censored[data_censored['period'] == 1].copy()\n",
    "\n",
    "# Expand each row into 11 rows (follow-up time 0 to 10)\n",
    "expanded_data = expanded_data.loc[expanded_data.index.repeat(11)].reset_index(drop=True)\n",
    "expanded_data['followup_time'] = np.tile(np.arange(11), len(expanded_data) // 11)\n",
    "\n",
    "# Assign initial treatment to all rows\n",
    "expanded_data['assigned_treatment'] = expanded_data['treatment']\n",
    "\n",
    "# Precompute follow-up time squared\n",
    "expanded_data['followup_time_squared'] = expanded_data['followup_time'] ** 2\n",
    "\n",
    "# Drop outcome if already present (for clean merge)\n",
    "if 'outcome' in expanded_data.columns:\n",
    "    expanded_data = expanded_data.drop(columns=['outcome'])\n",
    "\n",
    "# Merge back outcomes and weights in one go (corrected to avoid suffix clash)\n",
    "expanded_data = expanded_data.merge(\n",
    "    data_censored[['id', 'period', 'outcome', 'weight']],\n",
    "    left_on=['id', 'followup_time'],\n",
    "    right_on=['id', 'period'],\n",
    "    how='left',\n",
    "    suffixes=('', '_censored')\n",
    ")\n",
    "\n",
    "# Drop the redundant 'period' column (keeping only followup_time)\n",
    "expanded_data = expanded_data.drop(columns=['period'], errors='ignore')\n",
    "\n",
    "# Important Fix: If outcome is missing (future timepoints not recorded), set it to 0\n",
    "expanded_data['outcome'] = expanded_data['outcome'].fillna(0)\n",
    "\n",
    "# Double-check\n",
    "print(\"Step 5-6 Outcome Distribution:\")\n",
    "print(expanded_data['outcome'].value_counts(dropna=False))\n",
    "\n",
    "# 6. Fit Outcome Model (Logit with IPC Weights)\n",
    "X = sm.add_constant(expanded_data[['assigned_treatment', 'x2', 'followup_time', 'followup_time_squared']])\n",
    "y = expanded_data['outcome']\n",
    "\n",
    "# Fix any missing or zero weights to a very small non-zero value\n",
    "expanded_data['weight'] = expanded_data['weight'].fillna(1e-6).replace(0, 1e-6)\n",
    "\n",
    "# Fit weighted logistic regression (this is the core outcome model)\n",
    "outcome_model = sm.GLM(\n",
    "    y, X, family=sm.families.Binomial(), freq_weights=expanded_data['weight']\n",
    ").fit()\n",
    "\n",
    "# Store model and column list for later prediction (step 7)\n",
    "trial_itt = {}\n",
    "trial_itt['outcome_model'] = outcome_model\n",
    "trial_itt['outcome_columns'] = X.columns.tolist()\n",
    "\n",
    "print(outcome_model.summary())"
   ]
  },
  {
   "cell_type": "code",
   "execution_count": 6,
   "metadata": {},
   "outputs": [
    {
     "data": {
      "image/png": "[encoded data removed]",
      "text/plain": [
       "<Figure size 800x500 with 1 Axes>"
      ]
     },
     "metadata": {},
     "output_type": "display_data"
    }
   ],
   "source": [
    "import matplotlib.pyplot as plt\n",
    "import numpy as np\n",
    "\n",
    "# 7. Predict Survival for Both Treatment Arms (with Recomputed Columns)\n",
    "def predict_survival(data, assigned_treatment):\n",
    "    temp = data.copy()\n",
    "    temp['assigned_treatment'] = assigned_treatment\n",
    "    if 'followup_time_squared' not in temp.columns:\n",
    "        temp['followup_time_squared'] = temp['followup_time'] ** 2\n",
    "\n",
    "    temp = sm.add_constant(temp)\n",
    "\n",
    "    # Align to the columns used during training (critical)\n",
    "    X = temp[trial_itt['outcome_columns']]\n",
    "    logit_risk = trial_itt['outcome_model'].predict(X)\n",
    "    survival_prob = 1 - logit_risk\n",
    "\n",
    "    return survival_prob.groupby(temp['followup_time']).mean()\n",
    "\n",
    "# Add constant (intercept) column if missing\n",
    "if 'const' not in expanded_data.columns:\n",
    "    expanded_data = sm.add_constant(expanded_data)\n",
    "\n",
    "# Predict survival for both treatment arms\n",
    "survival_treatment = predict_survival(expanded_data, assigned_treatment=1)\n",
    "survival_control = predict_survival(expanded_data, assigned_treatment=0)\n",
    "\n",
    "# 8. Calculate Survival Difference (per follow-up time)\n",
    "survival_diff = survival_treatment - survival_control\n",
    "\n",
    "# 8.1 Bootstrap to compute correct pointwise confidence intervals\n",
    "n_bootstraps = 1000\n",
    "boot_diffs = np.zeros((n_bootstraps, len(survival_diff)))\n",
    "\n",
    "for b in range(n_bootstraps):\n",
    "    # Resample subjects with replacement\n",
    "    boot_sample = expanded_data.groupby('id').sample(frac=1, replace=True)\n",
    "\n",
    "    # Predict survival curves for bootstrap sample\n",
    "    surv_treat_boot = predict_survival(boot_sample, assigned_treatment=1)\n",
    "    surv_control_boot = predict_survival(boot_sample, assigned_treatment=0)\n",
    "\n",
    "    # Compute survival difference for bootstrap sample\n",
    "    boot_diffs[b, :] = surv_treat_boot.values - surv_control_boot.values\n",
    "\n",
    "# Compute 95% bootstrap confidence intervals (percentile method)\n",
    "ci_lower = np.percentile(boot_diffs, 2.5, axis=0)\n",
    "ci_upper = np.percentile(boot_diffs, 97.5, axis=0)\n",
    "\n",
    "# 9. Plot Survival Difference with 95% Confidence Interval\n",
    "plt.figure(figsize=(8, 5))\n",
    "\n",
    "plt.plot(survival_diff.index, survival_diff, color='black', label='Survival Difference')\n",
    "plt.fill_between(survival_diff.index, ci_lower, ci_upper, color='red', alpha=0.3, label='95% CI')\n",
    "\n",
    "plt.xlabel(\"Follow-up Time\")\n",
    "plt.ylabel(\"Survival Difference\")\n",
    "plt.legend()\n",
    "plt.grid(True)\n",
    "plt.show()"
   ]
  },
  {
   "cell_type": "code",
   "execution_count": null,
   "metadata": {},
   "outputs": [],
   "source": []
  }
 ],
 "metadata": {
  "kernelspec": {
   "display_name": "Python 3 (ipykernel)",
   "language": "python",
   "name": "python3"
  },
  "language_info": {
   "codemirror_mode": {
    "name": "ipython",
    "version": 3
   },
   "file_extension": ".py",
   "mimetype": "text/x-python",
   "name": "python",
   "nbconvert_exporter": "python",
   "pygments_lexer": "ipython3",
   "version": "3.13.2"
  }
 },
 "nbformat": 4,
 "nbformat_minor": 4
}
