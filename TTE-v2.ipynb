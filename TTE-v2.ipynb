{
 "cells": [
  {
   "cell_type": "markdown",
   "metadata": {},
   "source": [
    "<center>\n",
    "    <h1>Target Trial Emulation</h1>\n",
    "    By Christian Abay-abay & Thristan Jay Nakila\n",
    "</center>\n",
    "\n",
    "## **Instructions**\n",
    "\n",
    "1. Extract the dummy data from [RPubs - TTE](https://rpubs.com/alanyang0924/TTE) and save it as `data_censored.csv`.\n",
    "2. Convert the R code to Python in a Jupyter Notebook, ensuring the results match the original.\n",
    "3. Create a second version (`TTE-v2.ipynb`) with additional analysis.\n",
    "4. Integrate clustering in `TTE-v2`, determine where it fits, and generate insights.\n",
    "5. Work in pairs, preferably with your thesis partner.\n",
    "6. Push your Jupyter Notebooks (`TTE.ipynb` and `TTE-v2.ipynb`) to GitHub.\n",
    "7. 📅 **Deadline:** February 28, 2025, at **11:59 PM**.\n"
   ]
  },
  {
   "cell_type": "markdown",
   "metadata": {},
   "source": [
    "***\n",
    "<center>\n",
    "    <h2>R Code converted to Python</h2>\n",
    "    R Code from [RPubs - TTE](https://rpubs.com/alanyang0924/TTE) converted to Python code for this notebook.\n",
    "</center>"
   ]
  },
  {
   "cell_type": "code",
   "execution_count": 20,
   "metadata": {},
   "outputs": [],
   "source": [
    "import pandas as pd\n",
    "import numpy as np\n",
    "import statsmodels.api as sm\n",
    "import statsmodels.formula.api as smf\n",
    "import os\n",
    "import matplotlib.pyplot as plt"
   ]
  },
  {
   "cell_type": "code",
   "execution_count": 21,
   "metadata": {},
   "outputs": [],
   "source": [
    "\n",
    "class TrialSequence:\n",
    "    def __init__(self, estimand):\n",
    "        self.estimand = estimand\n",
    "        self.data = None\n",
    "        self.censor_weights = None\n",
    "        self.switch_weights = None if estimand != \"Per-Protocol\" else {}\n",
    "        self.expanded_data = None\n",
    "        self.outcome_model = None\n",
    "        self.outcome_data = None\n",
    "        self.save_dir = None\n",
    "\n",
    "    def set_data(self, data, id=\"id\", period=\"period\", treatment=\"treatment\", outcome=\"outcome\", eligible=\"eligible\", censor_event=\"censored\"):\n",
    "        data = data.rename(columns={id: \"id\", period: \"period\", treatment: \"treatment\", outcome: \"outcome\", eligible: \"eligible\", censor_event: \"censored\"})\n",
    "        data = data.sort_values(by=[\"id\", \"period\"])\n",
    "        data[\"treatment_lag\"] = data.groupby(\"id\")[\"treatment\"].shift(1).fillna(0)\n",
    "        if self.estimand == \"Per-Protocol\":\n",
    "            data[\"switch\"] = (data[\"treatment\"] != data[\"treatment_lag\"]) & (~data[\"treatment_lag\"].isna())\n",
    "        self.data = data\n",
    "        return self\n",
    "\n",
    "    def set_censor_weight_model(self, censor_event, numerator, denominator, pool_models, model_fitter, save_path=None):\n",
    "        self.censor_weights = {\n",
    "            \"censor_event\": censor_event,\n",
    "            \"numerator\": numerator,\n",
    "            \"denominator\": denominator,\n",
    "            \"pool_models\": pool_models,\n",
    "            \"model_fitter\": model_fitter,\n",
    "            \"save_path\": save_path,\n",
    "            \"fitted_models\": {}\n",
    "        }\n",
    "        return self\n",
    "\n",
    "    def set_switch_weight_model(self, numerator, denominator, model_fitter, save_path=None):\n",
    "        if self.estimand != \"Per-Protocol\":\n",
    "            raise ValueError(\"Switch weights are only applicable for Per-Protocol estimand.\")\n",
    "        self.switch_weights = {\n",
    "            \"numerator\": numerator,\n",
    "            \"denominator\": denominator,\n",
    "            \"model_fitter\": model_fitter,\n",
    "            \"save_path\": save_path,\n",
    "            \"fitted_models\": {}\n",
    "        }\n",
    "        return self\n",
    "\n",
    "    def print_model_summary(self, model, title):\n",
    "        print(f\"{title}:\")\n",
    "        print(\"term        estimate   std.error statistic p.value\")\n",
    "        for param in model.params.index:\n",
    "            term = \"(Intercept)\" if param == \"Intercept\" else param\n",
    "            estimate = model.params[param]\n",
    "            std_error = model.bse[param]\n",
    "            statistic = model.tvalues[param]\n",
    "            p_value = model.pvalues[param]\n",
    "            print(f\"{term:<12}{estimate:>10.6f}{std_error:>12.6f}{statistic:>10.4f}{p_value:>12.4e}\")\n",
    "        null_deviance = -2 * model.llnull\n",
    "        deviance = -2 * model.llf\n",
    "        df_null = int(model.nobs - 1)\n",
    "        print(\"\\nnull.deviance df.null logLik    AIC      BIC      deviance df.residual nobs\")\n",
    "        print(f\"{null_deviance:>13.4f}{df_null:>8d}{model.llf:>10.4f}{model.aic:>10.4f}{model.bic:>10.4f}{deviance:>10.4f}{int(model.df_resid):>12d}{int(model.nobs):>5d}\")\n",
    "        print()\n",
    "\n",
    "    def calculate_weights(self):\n",
    "        if self.censor_weights is None:\n",
    "            raise ValueError(\"Censor weight model not specified.\")\n",
    "        \n",
    "        data = self.data.copy()\n",
    "        censor_event = self.censor_weights[\"censor_event\"]\n",
    "        data[\"not_censored\"] = 1 - data[censor_event]\n",
    "        \n",
    "        print(f\"Step 4: Weight Models for Informative Censoring ({self.estimand})\")\n",
    "        print(\"---------------------------------------\")\n",
    "        \n",
    "        # Censor weights\n",
    "        if self.censor_weights[\"pool_models\"] == \"numerator\":\n",
    "            # Pooled numerator\n",
    "            num_formula = f\"not_censored ~ {self.censor_weights['numerator']}\"\n",
    "            model_n = smf.logit(num_formula, data=data).fit(disp=0)\n",
    "            self.censor_weights[\"fitted_models\"][\"n\"] = model_n\n",
    "            \n",
    "            den_formula = f\"not_censored ~ {self.censor_weights['denominator']}\"\n",
    "            model_d0 = smf.logit(den_formula, data=data[data[\"treatment_lag\"] == 0]).fit(disp=0)\n",
    "            model_d1 = smf.logit(den_formula, data=data[data[\"treatment_lag\"] == 1]).fit(disp=0)\n",
    "            self.censor_weights[\"fitted_models\"][\"d0\"] = model_d0\n",
    "            self.censor_weights[\"fitted_models\"][\"d1\"] = model_d1\n",
    "            \n",
    "            data[\"censor_prob_num\"] = model_n.predict(data)\n",
    "            data[\"censor_prob_den\"] = np.where(\n",
    "                data[\"treatment_lag\"] == 0,\n",
    "                model_d0.predict(data),\n",
    "                model_d1.predict(data)\n",
    "            )\n",
    "            self.print_model_summary(model_n, \"Numerator Model (Pooled)\")\n",
    "            self.print_model_summary(model_d0, \"Denominator Model (Treatment Lag = 0)\")\n",
    "            self.print_model_summary(model_d1, \"Denominator Model (Treatment Lag = 1)\")\n",
    "        else:  # \"none\" pooling (PP default)\n",
    "            num_formula = f\"not_censored ~ {self.censor_weights['numerator']}\"\n",
    "            model_n0 = smf.logit(num_formula, data=data[data[\"treatment_lag\"] == 0]).fit(disp=0)\n",
    "            model_n1 = smf.logit(num_formula, data=data[data[\"treatment_lag\"] == 1]).fit(disp=0)\n",
    "            den_formula = f\"not_censored ~ {self.censor_weights['denominator']}\"\n",
    "            model_d0 = smf.logit(den_formula, data=data[data[\"treatment_lag\"] == 0]).fit(disp=0)\n",
    "            model_d1 = smf.logit(den_formula, data=data[data[\"treatment_lag\"] == 1]).fit(disp=0)\n",
    "            self.censor_weights[\"fitted_models\"][\"n0\"] = model_n0\n",
    "            self.censor_weights[\"fitted_models\"][\"n1\"] = model_n1\n",
    "            self.censor_weights[\"fitted_models\"][\"d0\"] = model_d0\n",
    "            self.censor_weights[\"fitted_models\"][\"d1\"] = model_d1\n",
    "            \n",
    "            data[\"censor_prob_num\"] = np.where(\n",
    "                data[\"treatment_lag\"] == 0,\n",
    "                model_n0.predict(data),\n",
    "                model_n1.predict(data)\n",
    "            )\n",
    "            data[\"censor_prob_den\"] = np.where(\n",
    "                data[\"treatment_lag\"] == 0,\n",
    "                model_d0.predict(data),\n",
    "                model_d1.predict(data)\n",
    "            )\n",
    "            self.print_model_summary(model_n0, \"Numerator Model (Treatment Lag = 0)\")\n",
    "            self.print_model_summary(model_n1, \"Numerator Model (Treatment Lag = 1)\")\n",
    "            self.print_model_summary(model_d0, \"Denominator Model (Treatment Lag = 0)\")\n",
    "            self.print_model_summary(model_d1, \"Denominator Model (Treatment Lag = 1)\")\n",
    "        \n",
    "        data[\"wtC\"] = data[\"censor_prob_num\"] / data[\"censor_prob_den\"]\n",
    "        data[\"wtC\"] = data.groupby(\"id\")[\"wtC\"].cumprod()\n",
    "        \n",
    "        # Switch weights (PP only)\n",
    "        if self.estimand == \"Per-Protocol\" and self.switch_weights:\n",
    "            data[\"stayed_on_treatment\"] = (~data[\"switch\"]).astype(int)\n",
    "            num_formula = f\"stayed_on_treatment ~ {self.switch_weights['numerator']}\"\n",
    "            den_formula = f\"stayed_on_treatment ~ {self.switch_weights['denominator']}\"\n",
    "            \n",
    "            model_n0 = smf.logit(num_formula, data=data[data[\"treatment_lag\"] == 0]).fit(disp=0)\n",
    "            model_n1 = smf.logit(num_formula, data=data[data[\"treatment_lag\"] == 1]).fit(disp=0)\n",
    "            model_d0 = smf.logit(den_formula, data=data[data[\"treatment_lag\"] == 0]).fit(disp=0)\n",
    "            model_d1 = smf.logit(den_formula, data=data[data[\"treatment_lag\"] == 1]).fit(disp=0)\n",
    "            self.switch_weights[\"fitted_models\"][\"n0\"] = model_n0\n",
    "            self.switch_weights[\"fitted_models\"][\"n1\"] = model_n1\n",
    "            self.switch_weights[\"fitted_models\"][\"d0\"] = model_d0\n",
    "            self.switch_weights[\"fitted_models\"][\"d1\"] = model_d1\n",
    "            \n",
    "            data[\"switch_prob_num\"] = np.where(\n",
    "                data[\"treatment_lag\"] == 0,\n",
    "                model_n0.predict(data),\n",
    "                model_n1.predict(data)\n",
    "            )\n",
    "            data[\"switch_prob_den\"] = np.where(\n",
    "                data[\"treatment_lag\"] == 0,\n",
    "                model_d0.predict(data),\n",
    "                model_d1.predict(data)\n",
    "            )\n",
    "            data[\"wtS\"] = data[\"switch_prob_num\"] / data[\"switch_prob_den\"]\n",
    "            data[\"wtS\"] = data.groupby(\"id\")[\"wtS\"].cumprod()\n",
    "            data[\"weight\"] = data[\"wtC\"] * data[\"wtS\"]\n",
    "            \n",
    "            print(\"Switch Weight Models:\")\n",
    "            self.print_model_summary(model_n0, \"Numerator Model (Treatment Lag = 0)\")\n",
    "            self.print_model_summary(model_n1, \"Numerator Model (Treatment Lag = 1)\")\n",
    "            self.print_model_summary(model_d0, \"Denominator Model (Treatment Lag = 0)\")\n",
    "            self.print_model_summary(model_d1, \"Denominator Model (Treatment Lag = 1)\")\n",
    "        else:\n",
    "            data[\"weight\"] = data[\"wtC\"]\n",
    "        \n",
    "        self.data = data\n",
    "        return self\n",
    "\n",
    "    def set_outcome_model(self, adjustment_terms=\"x2\"):\n",
    "        print(\"Step 5: Outcome Model Specification\")\n",
    "        print(\"-----------------------------------\")\n",
    "        terms = \"assigned_treatment + x2 + followup_time + I(followup_time**2) + trial_period + I(trial_period**2)\"\n",
    "        if adjustment_terms:\n",
    "            terms += f\" + {adjustment_terms}\"\n",
    "        self.outcome_model = {\"formula\": f\"outcome ~ {terms}\", \"fitted\": None}\n",
    "        print(f\"Outcome Model Formula: {self.outcome_model['formula']}\\n\")\n",
    "        return self\n",
    "\n",
    "    def set_expansion_options(self, output=\"memory\", chunk_size=500):\n",
    "        self.expansion_options = {\"output\": output, \"chunk_size\": chunk_size}\n",
    "        return self\n",
    "\n",
    "    def expand_trials(self):\n",
    "        data = self.data.copy()\n",
    "        periods = data[\"period\"].unique()\n",
    "        expanded_rows = []\n",
    "        \n",
    "        for trial_period in periods:\n",
    "            eligible = data[(data[\"period\"] == trial_period) & (data[\"eligible\"] == 1)]\n",
    "            for _, row in eligible.iterrows():\n",
    "                patient_data = data[data[\"id\"] == row[\"id\"]]\n",
    "                start_idx = patient_data.index[patient_data[\"period\"] == trial_period][0]\n",
    "                follow_up = patient_data.loc[start_idx:]\n",
    "                \n",
    "                assigned_treatment = row[\"treatment\"]\n",
    "                for t, f_row in enumerate(follow_up.itertuples()):\n",
    "                    expanded_row = {\n",
    "                        \"id\": row[\"id\"],\n",
    "                        \"trial_period\": trial_period,\n",
    "                        \"followup_time\": t,\n",
    "                        \"outcome\": f_row.outcome,\n",
    "                        \"weight\": f_row.weight,\n",
    "                        \"treatment\": f_row.treatment,\n",
    "                        \"assigned_treatment\": assigned_treatment,\n",
    "                        \"x2\": f_row.x2,\n",
    "                        \"age\": f_row.age\n",
    "                    }\n",
    "                    if self.estimand == \"Per-Protocol\" and f_row.switch:\n",
    "                        break\n",
    "                    expanded_rows.append(expanded_row)\n",
    "        \n",
    "        self.expanded_data = pd.DataFrame(expanded_rows)\n",
    "        print(\"Step 6: Trial Expansion\")\n",
    "        print(\"------------------------\")\n",
    "        print(f\"Expanded Data: {self.expanded_data.shape[0]} rows, {self.expanded_data.shape[1]} columns\")\n",
    "        print(\"First few rows of expanded data:\")\n",
    "        print(self.expanded_data.head().to_string(index=True), \"\\n\")\n",
    "        return self\n",
    "\n",
    "    def load_expanded_data(self, seed=1234, p_control=0.5):\n",
    "        np.random.seed(seed)\n",
    "        expanded = self.expanded_data.copy()\n",
    "        control_mask = (expanded[\"outcome\"] == 0)\n",
    "        sample_mask = control_mask & (np.random.random(len(expanded)) < p_control)\n",
    "        self.outcome_data = expanded[sample_mask | ~control_mask].copy()\n",
    "        self.outcome_data[\"sample_weight\"] = np.where(self.outcome_data[\"outcome\"] == 0, 1 / p_control, 1)\n",
    "        print(\"Step 7: Load Expanded Data\")\n",
    "        print(\"--------------------------\")\n",
    "        print(f\"Loaded Data: {self.outcome_data.shape[0]} rows\")\n",
    "        print(\"First few rows of loaded data:\")\n",
    "        print(self.outcome_data.head().to_string(index=True), \"\\n\")\n",
    "        return self\n",
    "\n",
    "    def fit_msm(self, weight_cols=[\"weight\", \"sample_weight\"], modify_weights=None):\n",
    "        data = self.outcome_data.copy()\n",
    "        data[\"w\"] = data[weight_cols].prod(axis=1)\n",
    "        if modify_weights:\n",
    "            data[\"w\"] = modify_weights(data[\"w\"])\n",
    "        \n",
    "        model = smf.logit(self.outcome_model[\"formula\"], data=data, weights=data[\"w\"]).fit(disp=0)\n",
    "        self.outcome_model[\"fitted\"] = model\n",
    "        print(\"Step 8: Fit Marginal Structural Model\")\n",
    "        print(\"-------------------------------------\")\n",
    "        print(\"Marginal Structural Model Summary:\")\n",
    "        print(model.summary())\n",
    "        print()\n",
    "        return self\n",
    "\n",
    "    def predict(self, newdata, predict_times):\n",
    "        model = self.outcome_model[\"fitted\"]\n",
    "        preds = []\n",
    "        ref_row = newdata.iloc[0].copy()\n",
    "        \n",
    "        for trt in [0, 1]:\n",
    "            pred_data = pd.DataFrame([ref_row] * len(predict_times))\n",
    "            pred_data[\"assigned_treatment\"] = trt\n",
    "            pred_data[\"followup_time\"] = predict_times\n",
    "            pred_data[\"trial_period\"] = ref_row[\"trial_period\"]\n",
    "            probs = model.predict(pred_data)\n",
    "            survival = np.cumprod(1 - probs)\n",
    "            preds.append({\"treatment\": trt, \"survival\": survival})\n",
    "        \n",
    "        diff = preds[1][\"survival\"] - preds[0][\"survival\"]\n",
    "        return {\"difference\": {\"followup_time\": predict_times, \"survival_diff\": diff}}\n",
    "\n",
    "class TrialSequenceITT(TrialSequence):\n",
    "    def __init__(self):\n",
    "        super().__init__(\"Intention-to-Treat\")\n",
    "\n",
    "    def set_censor_weight_model(self, censor_event=\"censored\", numerator=\"x2\", denominator=\"x2 + x1\", pool_models=\"numerator\", model_fitter=\"stats_glm_logit\", save_path=None):\n",
    "        return super().set_censor_weight_model(censor_event, numerator, denominator, pool_models, model_fitter, save_path)\n",
    "\n",
    "class TrialSequencePP(TrialSequence):\n",
    "    def __init__(self):\n",
    "        super().__init__(\"Per-Protocol\")\n",
    "\n",
    "    def set_censor_weight_model(self, censor_event=\"censored\", numerator=\"x2\", denominator=\"x2 + x1\", pool_models=\"none\", model_fitter=\"stats_glm_logit\", save_path=None):\n",
    "        return super().set_censor_weight_model(censor_event, numerator, denominator, pool_models, model_fitter, save_path)\n",
    "###########################\n",
    "\n"
   ]
  },
  {
   "cell_type": "markdown",
   "metadata": {},
   "source": [
    "# 1. SETUP"
   ]
  },
  {
   "cell_type": "code",
   "execution_count": 22,
   "metadata": {},
   "outputs": [],
   "source": [
    "# Setup\n",
    "trial_itt = TrialSequenceITT()\n",
    "trial_pp = TrialSequencePP()\n",
    "\n",
    "trial_itt_dir = os.path.join(os.path.abspath(\".\"), \"trial_itt\")\n",
    "trial_pp_dir = os.path.join(os.path.abspath(\".\"), \"trial_pp\")\n",
    "os.makedirs(trial_itt_dir, exist_ok=True)\n",
    "os.makedirs(trial_pp_dir, exist_ok=True)\n",
    "trial_itt.save_dir = trial_itt_dir\n",
    "trial_pp.save_dir = trial_pp_dir\n",
    "\n",
    "# Load data\n",
    "file_path = \"data/data_censored.csv\"  # Update with your actual path\n",
    "data_censored = pd.read_csv(file_path)"
   ]
  },
  {
   "cell_type": "markdown",
   "metadata": {},
   "source": [
    "# 2. Data Preparation"
   ]
  },
  {
   "cell_type": "code",
   "execution_count": 23,
   "metadata": {},
   "outputs": [
    {
     "name": "stdout",
     "output_type": "stream",
     "text": [
      "     id  period  treatment  x1        x2  x3        x4  age     age_s  \\\n",
      "0     1       0          1   1  1.146148   0  0.734203   36  0.083333   \n",
      "1     1       1          1   1  0.002200   0  0.734203   37  0.166667   \n",
      "2     1       2          1   0 -0.481762   0  0.734203   38  0.250000   \n",
      "3     1       3          1   0  0.007872   0  0.734203   39  0.333333   \n",
      "4     1       4          1   1  0.216054   0  0.734203   40  0.416667   \n",
      "..   ..     ...        ...  ..       ...  ..       ...  ...       ...   \n",
      "720  99       3          0   0 -0.747906   1  0.575268   68  2.750000   \n",
      "721  99       4          0   0 -0.790056   1  0.575268   69  2.833333   \n",
      "722  99       5          1   1  0.387429   1  0.575268   70  2.916667   \n",
      "723  99       6          1   1 -0.033762   1  0.575268   71  3.000000   \n",
      "724  99       7          0   0 -1.340497   1  0.575268   72  3.083333   \n",
      "\n",
      "     outcome  censored  eligible  \n",
      "0          0         0         1  \n",
      "1          0         0         0  \n",
      "2          0         0         0  \n",
      "3          0         0         0  \n",
      "4          0         0         0  \n",
      "..       ...       ...       ...  \n",
      "720        0         0         0  \n",
      "721        0         0         0  \n",
      "722        0         0         0  \n",
      "723        0         0         0  \n",
      "724        1         0         0  \n",
      "\n",
      "[725 rows x 12 columns]\n"
     ]
    },
    {
     "data": {
      "text/plain": [
       "<__main__.TrialSequencePP at 0x1f576011c70>"
      ]
     },
     "execution_count": 23,
     "metadata": {},
     "output_type": "execute_result"
    }
   ],
   "source": [
    "print(data_censored)\n",
    "\n",
    "trial_itt.set_data(data_censored)\n",
    "trial_pp.set_data(data_censored)"
   ]
  },
  {
   "cell_type": "code",
   "execution_count": null,
   "metadata": {},
   "outputs": [],
   "source": []
  },
  {
   "cell_type": "markdown",
   "metadata": {},
   "source": [
    "# 3. Weight models and censoring"
   ]
  },
  {
   "cell_type": "markdown",
   "metadata": {},
   "source": [
    "## 3.1 Censoring due to treatment switching"
   ]
  },
  {
   "cell_type": "code",
   "execution_count": 24,
   "metadata": {
    "scrolled": true
   },
   "outputs": [
    {
     "data": {
      "text/plain": [
       "<__main__.TrialSequencePP at 0x1f576011c70>"
      ]
     },
     "execution_count": 24,
     "metadata": {},
     "output_type": "execute_result"
    }
   ],
   "source": [
    "# Weight Models\n",
    "trial_pp.set_switch_weight_model(numerator=\"age\", denominator=\"age + x1 + x3\", model_fitter=\"stats_glm_logit\", save_path=trial_pp_dir)"
   ]
  },
  {
   "cell_type": "markdown",
   "metadata": {},
   "source": [
    "## 3.2 Other informative censoring"
   ]
  },
  {
   "cell_type": "code",
   "execution_count": 25,
   "metadata": {},
   "outputs": [
    {
     "data": {
      "text/plain": [
       "<__main__.TrialSequencePP at 0x1f576011c70>"
      ]
     },
     "execution_count": 25,
     "metadata": {},
     "output_type": "execute_result"
    }
   ],
   "source": [
    "trial_itt.set_censor_weight_model(save_path=trial_itt_dir)\n",
    "trial_pp.set_censor_weight_model(save_path=trial_pp_dir)"
   ]
  },
  {
   "cell_type": "markdown",
   "metadata": {},
   "source": [
    "# 4. Calculate Weights"
   ]
  },
  {
   "cell_type": "code",
   "execution_count": 26,
   "metadata": {},
   "outputs": [
    {
     "name": "stdout",
     "output_type": "stream",
     "text": [
      "Step 4: Weight Models for Informative Censoring (Intention-to-Treat)\n",
      "---------------------------------------\n",
      "Numerator Model (Pooled):\n",
      "term        estimate   std.error statistic p.value\n",
      "(Intercept)   2.448091    0.140575   17.4149  6.3626e-68\n",
      "x2           -0.448648    0.136878   -3.2777  1.0465e-03\n",
      "\n",
      "null.deviance df.null logLik    AIC      BIC      deviance df.residual nobs\n",
      "     404.2156     724 -196.7002  397.4004  406.5727  393.4004         723  725\n",
      "\n",
      "Denominator Model (Treatment Lag = 0):\n",
      "term        estimate   std.error statistic p.value\n",
      "(Intercept)   1.894196    0.207114    9.1457  5.9253e-20\n",
      "x2           -0.589829    0.169342   -3.4831  4.9572e-04\n",
      "x1            0.855260    0.345299    2.4769  1.3254e-02\n",
      "\n",
      "null.deviance df.null logLik    AIC      BIC      deviance df.residual nobs\n",
      "     283.0723     425 -132.1655  270.3309  282.4943  264.3309         423  426\n",
      "\n",
      "Denominator Model (Treatment Lag = 1):\n",
      "term        estimate   std.error statistic p.value\n",
      "(Intercept)   2.814434    0.312269    9.0129  2.0076e-19\n",
      "x2           -0.037132    0.269959   -0.1375  8.9060e-01\n",
      "x1            0.893514    0.777206    1.1496  2.5029e-01\n",
      "\n",
      "null.deviance df.null logLik    AIC      BIC      deviance df.residual nobs\n",
      "     113.0528     298  -55.7294  117.4588  128.5601  111.4588         296  299\n",
      "\n",
      "Step 4: Weight Models for Informative Censoring (Per-Protocol)\n",
      "---------------------------------------\n",
      "Numerator Model (Treatment Lag = 0):\n",
      "term        estimate   std.error statistic p.value\n",
      "(Intercept)   2.245008    0.171771   13.0698  4.8986e-39\n",
      "x2           -0.573941    0.167010   -3.4366  5.8912e-04\n",
      "\n",
      "null.deviance df.null logLik    AIC      BIC      deviance df.residual nobs\n",
      "     283.0723     425 -135.4361  274.8722  282.9811  270.8722         424  426\n",
      "\n",
      "Numerator Model (Treatment Lag = 1):\n",
      "term        estimate   std.error statistic p.value\n",
      "(Intercept)   3.011579    0.287339   10.4809  1.0570e-25\n",
      "x2           -0.005692    0.270506   -0.0210  9.8321e-01\n",
      "\n",
      "null.deviance df.null logLik    AIC      BIC      deviance df.residual nobs\n",
      "     113.0528     298  -56.5262  117.0524  124.4533  113.0524         297  299\n",
      "\n",
      "Denominator Model (Treatment Lag = 0):\n",
      "term        estimate   std.error statistic p.value\n",
      "(Intercept)   1.894196    0.207114    9.1457  5.9253e-20\n",
      "x2           -0.589829    0.169342   -3.4831  4.9572e-04\n",
      "x1            0.855260    0.345299    2.4769  1.3254e-02\n",
      "\n",
      "null.deviance df.null logLik    AIC      BIC      deviance df.residual nobs\n",
      "     283.0723     425 -132.1655  270.3309  282.4943  264.3309         423  426\n",
      "\n",
      "Denominator Model (Treatment Lag = 1):\n",
      "term        estimate   std.error statistic p.value\n",
      "(Intercept)   2.814434    0.312269    9.0129  2.0076e-19\n",
      "x2           -0.037132    0.269959   -0.1375  8.9060e-01\n",
      "x1            0.893514    0.777206    1.1496  2.5029e-01\n",
      "\n",
      "null.deviance df.null logLik    AIC      BIC      deviance df.residual nobs\n",
      "     113.0528     298  -55.7294  117.4588  128.5601  111.4588         296  299\n",
      "\n",
      "Switch Weight Models:\n",
      "Numerator Model (Treatment Lag = 0):\n",
      "term        estimate   std.error statistic p.value\n",
      "(Intercept)  -1.594883    0.438099   -3.6405  2.7215e-04\n",
      "age           0.046289    0.008992    5.1477  2.6364e-07\n",
      "\n",
      "null.deviance df.null logLik    AIC      BIC      deviance df.residual nobs\n",
      "     550.2502     425 -260.8109  525.6219  533.7307  521.6219         424  426\n",
      "\n",
      "Numerator Model (Treatment Lag = 1):\n",
      "term        estimate   std.error statistic p.value\n",
      "(Intercept)   2.039610    0.542092    3.7625  1.6824e-04\n",
      "age          -0.031052    0.011046   -2.8112  4.9359e-03\n",
      "\n",
      "null.deviance df.null logLik    AIC      BIC      deviance df.residual nobs\n",
      "     391.1565     298 -191.4956  386.9911  394.3920  382.9911         297  299\n",
      "\n",
      "Denominator Model (Treatment Lag = 0):\n",
      "term        estimate   std.error statistic p.value\n",
      "(Intercept)  -1.490694    0.470815   -3.1662  1.5445e-03\n",
      "age           0.049125    0.009213    5.3321  9.7110e-08\n",
      "x1           -0.595126    0.214955   -2.7686  5.6296e-03\n",
      "x3            0.139297    0.214121    0.6506  5.1533e-01\n",
      "\n",
      "null.deviance df.null logLik    AIC      BIC      deviance df.residual nobs\n",
      "     550.2502     425 -256.6657  521.3314  537.5492  513.3314         422  426\n",
      "\n",
      "Denominator Model (Treatment Lag = 1):\n",
      "term        estimate   std.error statistic p.value\n",
      "(Intercept)   1.754733    0.586036    2.9942  2.7513e-03\n",
      "age          -0.030293    0.011279   -2.6857  7.2383e-03\n",
      "x1            0.654404    0.289161    2.2631  2.3629e-02\n",
      "x3            0.161507    0.250179    0.6456  5.1856e-01\n",
      "\n",
      "null.deviance df.null logLik    AIC      BIC      deviance df.residual nobs\n",
      "     391.1565     298 -188.6727  385.3454  400.1472  377.3454         295  299\n",
      "\n"
     ]
    },
    {
     "data": {
      "text/plain": [
       "<__main__.TrialSequencePP at 0x1f576011c70>"
      ]
     },
     "execution_count": 26,
     "metadata": {},
     "output_type": "execute_result"
    }
   ],
   "source": [
    "# Step 4: Calculate Weights for Both\n",
    "trial_itt.calculate_weights()\n",
    "trial_pp.calculate_weights()"
   ]
  },
  {
   "cell_type": "markdown",
   "metadata": {},
   "source": [
    "# 5. Specify Outcome Model"
   ]
  },
  {
   "cell_type": "code",
   "execution_count": 27,
   "metadata": {},
   "outputs": [
    {
     "name": "stdout",
     "output_type": "stream",
     "text": [
      "Step 5: Outcome Model Specification\n",
      "-----------------------------------\n",
      "Outcome Model Formula: outcome ~ assigned_treatment + x2 + followup_time + I(followup_time**2) + trial_period + I(trial_period**2) + x2\n",
      "\n"
     ]
    },
    {
     "data": {
      "text/plain": [
       "<__main__.TrialSequenceITT at 0x1f5291d0440>"
      ]
     },
     "execution_count": 27,
     "metadata": {},
     "output_type": "execute_result"
    }
   ],
   "source": [
    "trial_itt.set_outcome_model(adjustment_terms=\"x2\")"
   ]
  },
  {
   "cell_type": "markdown",
   "metadata": {},
   "source": [
    "# 6. Expand Trials"
   ]
  },
  {
   "cell_type": "code",
   "execution_count": 29,
   "metadata": {},
   "outputs": [
    {
     "name": "stdout",
     "output_type": "stream",
     "text": [
      "Step 6: Trial Expansion\n",
      "------------------------\n",
      "Expanded Data: 1558 rows, 9 columns\n",
      "First few rows of expanded data:\n",
      "    id  trial_period  followup_time  outcome    weight  treatment  assigned_treatment        x2  age\n",
      "0  1.0             0              0        0  0.983546          1                 1.0  1.146148   36\n",
      "1  1.0             0              1        0  0.927411          1                 1.0  0.002200   37\n",
      "2  1.0             0              2        0  0.918067          1                 1.0 -0.481762   38\n",
      "3  1.0             0              3        0  0.895420          1                 1.0  0.007872   39\n",
      "4  1.0             0              4        0  0.837756          1                 1.0  0.216054   40 \n",
      "\n"
     ]
    },
    {
     "data": {
      "text/plain": [
       "<__main__.TrialSequenceITT at 0x1f5291d0440>"
      ]
     },
     "execution_count": 29,
     "metadata": {},
     "output_type": "execute_result"
    }
   ],
   "source": [
    "trial_itt.set_expansion_options().expand_trials()\n"
   ]
  },
  {
   "cell_type": "markdown",
   "metadata": {},
   "source": [
    "# 7. Load or Sample from Expanded Data"
   ]
  },
  {
   "cell_type": "code",
   "execution_count": 31,
   "metadata": {},
   "outputs": [
    {
     "name": "stdout",
     "output_type": "stream",
     "text": [
      "Step 7: Load Expanded Data\n",
      "--------------------------\n",
      "Loaded Data: 781 rows\n",
      "First few rows of loaded data:\n",
      "     id  trial_period  followup_time  outcome    weight  treatment  assigned_treatment        x2  age  sample_weight\n",
      "0   1.0             0              0        0  0.983546          1                 1.0  1.146148   36            2.0\n",
      "2   1.0             0              2        0  0.918067          1                 1.0 -0.481762   38            2.0\n",
      "5   1.0             0              5        0  0.818868          1                 1.0 -0.057482   41            2.0\n",
      "6   2.0             0              0        0  0.980690          0                 0.0 -0.802142   26            2.0\n",
      "10  2.0             0              4        0  0.933132          1                 0.0  1.173178   30            2.0 \n",
      "\n"
     ]
    },
    {
     "data": {
      "text/plain": [
       "<__main__.TrialSequenceITT at 0x1f5291d0440>"
      ]
     },
     "execution_count": 31,
     "metadata": {},
     "output_type": "execute_result"
    }
   ],
   "source": [
    "trial_itt.load_expanded_data()\n"
   ]
  },
  {
   "cell_type": "markdown",
   "metadata": {},
   "source": [
    "# 8. Fit Marginal Structural Model\n"
   ]
  },
  {
   "cell_type": "code",
   "execution_count": 32,
   "metadata": {},
   "outputs": [
    {
     "name": "stdout",
     "output_type": "stream",
     "text": [
      "Step 8: Fit Marginal Structural Model\n",
      "-------------------------------------\n",
      "Marginal Structural Model Summary:\n",
      "                           Logit Regression Results                           \n",
      "==============================================================================\n",
      "Dep. Variable:                outcome   No. Observations:                  781\n",
      "Model:                          Logit   Df Residuals:                      774\n",
      "Method:                           MLE   Df Model:                            6\n",
      "Date:                Thu, 06 Mar 2025   Pseudo R-squ.:                  0.1654\n",
      "Time:                        21:34:44   Log-Likelihood:                -58.565\n",
      "converged:                      False   LL-Null:                       -70.175\n",
      "Covariance Type:            nonrobust   LLR p-value:                 0.0007262\n",
      "=========================================================================================\n",
      "                            coef    std err          z      P>|z|      [0.025      0.975]\n",
      "-----------------------------------------------------------------------------------------\n",
      "Intercept                -5.2392      0.913     -5.738      0.000      -7.029      -3.450\n",
      "assigned_treatment        1.5185      0.660      2.301      0.021       0.225       2.812\n",
      "x2                        0.2049      0.279      0.734      0.463      -0.342       0.752\n",
      "followup_time             0.3526      0.209      1.689      0.091      -0.056       0.762\n",
      "I(followup_time ** 2)    -0.0218      0.013     -1.710      0.087      -0.047       0.003\n",
      "trial_period              7.5713   1440.710      0.005      0.996   -2816.169    2831.311\n",
      "I(trial_period ** 2)     -7.9966   1440.710     -0.006      0.996   -2831.736    2815.743\n",
      "=========================================================================================\n",
      "\n",
      "Possibly complete quasi-separation: A fraction 0.34 of observations can be\n",
      "perfectly predicted. This might indicate that there is complete\n",
      "quasi-separation. In this case some parameters will not be identified.\n",
      "\n"
     ]
    },
    {
     "name": "stderr",
     "output_type": "stream",
     "text": [
      "C:\\Users\\thris\\AppData\\Roaming\\Python\\Python312\\site-packages\\statsmodels\\base\\model.py:130: ValueWarning: unknown kwargs ['weights']\n",
      "  warnings.warn(msg, ValueWarning)\n",
      "C:\\Users\\thris\\AppData\\Roaming\\Python\\Python312\\site-packages\\statsmodels\\discrete\\discrete_model.py:2385: RuntimeWarning: overflow encountered in exp\n",
      "  return 1/(1+np.exp(-X))\n",
      "C:\\Users\\thris\\AppData\\Roaming\\Python\\Python312\\site-packages\\statsmodels\\base\\model.py:607: ConvergenceWarning: Maximum Likelihood optimization failed to converge. Check mle_retvals\n",
      "  warnings.warn(\"Maximum Likelihood optimization failed to \"\n",
      "C:\\Users\\thris\\AppData\\Roaming\\Python\\Python312\\site-packages\\statsmodels\\base\\model.py:130: ValueWarning: unknown kwargs ['weights']\n",
      "  warnings.warn(msg, ValueWarning)\n",
      "C:\\Users\\thris\\AppData\\Roaming\\Python\\Python312\\site-packages\\statsmodels\\discrete\\discrete_model.py:2385: RuntimeWarning: overflow encountered in exp\n",
      "  return 1/(1+np.exp(-X))\n"
     ]
    },
    {
     "data": {
      "image/png": "[encoded data removed]",
      "text/plain": [
       "<Figure size 640x480 with 1 Axes>"
      ]
     },
     "metadata": {},
     "output_type": "display_data"
    }
   ],
   "source": [
    "trial_itt.fit_msm(modify_weights=lambda w: np.minimum(w, np.quantile(w, 0.99)))\n",
    "\n",
    "# Optional Prediction and Plotting for ITT\n",
    "predict_times = list(range(11))\n",
    "newdata = trial_itt.outcome_data[trial_itt.outcome_data[\"trial_period\"] == 1]\n",
    "preds = trial_itt.predict(newdata, predict_times)\n",
    "plt.plot(preds[\"difference\"][\"followup_time\"], preds[\"difference\"][\"survival_diff\"], label=\"Survival Difference\")\n",
    "plt.xlabel(\"Follow up\")\n",
    "plt.ylabel(\"Survival difference\")\n",
    "plt.legend()\n",
    "plt.show()"
   ]
  },
  {
   "cell_type": "code",
   "execution_count": null,
   "metadata": {},
   "outputs": [],
   "source": []
  }
 ],
 "metadata": {
  "kernelspec": {
   "display_name": "Python 3 (ipykernel)",
   "language": "python",
   "name": "python3"
  },
  "language_info": {
   "codemirror_mode": {
    "name": "ipython",
    "version": 3
   },
   "file_extension": ".py",
   "mimetype": "text/x-python",
   "name": "python",
   "nbconvert_exporter": "python",
   "pygments_lexer": "ipython3",
   "version": "3.12.6"
  }
 },
 "nbformat": 4,
 "nbformat_minor": 4
}
