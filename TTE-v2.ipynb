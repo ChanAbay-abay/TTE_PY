{
 "cells": [
  {
   "cell_type": "markdown",
   "metadata": {},
   "source": [
    "<center>\n",
    "    <h1>Target Trial Emulation</h1>\n",
    "    By Christian Abay-abay & Thristan Jay Nakila\n",
    "</center>\n",
    "\n",
    "## **Instructions**\n",
    "\n",
    "1. Extract the dummy data from [RPubs - TTE](https://rpubs.com/alanyang0924/TTE) and save it as `data_censored.csv`.\n",
    "2. Convert the R code to Python in a Jupyter Notebook, ensuring the results match the original.\n",
    "3. Create a second version (`TTE-v2.ipynb`) with additional analysis.\n",
    "4. Integrate clustering in `TTE-v2`, determine where it fits, and generate insights.\n",
    "5. Work in pairs, preferably with your thesis partner.\n",
    "6. Push your Jupyter Notebooks (`TTE.ipynb` and `TTE-v2.ipynb`) to GitHub.\n",
    "7. 📅 **Deadline:** February 28, 2025, at **11:59 PM**.\n"
   ]
  },
  {
   "cell_type": "markdown",
   "metadata": {},
   "source": [
    "***\n",
    "<center>\n",
    "    <h2>Converting R Code to Python</h2>\n",
    "    R Code from [RPubs - TTE](https://rpubs.com/alanyang0924/TTE) converted to Python code for this notebook.\n",
    "</center>"
   ]
  },
  {
   "cell_type": "markdown",
   "metadata": {},
   "source": [
    "### 1. Setting Up"
   ]
  },
  {
   "cell_type": "code",
   "execution_count": 1,
   "metadata": {},
   "outputs": [
    {
     "name": "stdout",
     "output_type": "stream",
     "text": [
      "   id  period  treatment  x1        x2  x3        x4  age     age_s  outcome  \\\n",
      "0   1       0          1   1  1.146148   0  0.734203   36  0.083333        0   \n",
      "1   1       1          1   1  0.002200   0  0.734203   37  0.166667        0   \n",
      "2   1       2          1   0 -0.481762   0  0.734203   38  0.250000        0   \n",
      "3   1       3          1   0  0.007872   0  0.734203   39  0.333333        0   \n",
      "4   1       4          1   1  0.216054   0  0.734203   40  0.416667        0   \n",
      "\n",
      "   censored  eligible  \n",
      "0         0         1  \n",
      "1         0         0  \n",
      "2         0         0  \n",
      "3         0         0  \n",
      "4         0         0  \n"
     ]
    }
   ],
   "source": [
    "import os\n",
    "import pandas as pd\n",
    "\n",
    "# Load data\n",
    "file_path = 'data/data_censored.csv'\n",
    "data_censored = pd.read_csv(file_path)\n",
    "\n",
    "# Quick check to match output #1\n",
    "print(data_censored.head())"
   ]
  },
  {
   "cell_type": "markdown",
   "metadata": {},
   "source": [
    "### 2. Trial Sequences Setup (PP & ITT)\n",
    "Here, we set up the Trial Sequence Objects. We represent them as dictionaries to hold metadata and configs."
   ]
  },
  {
   "cell_type": "code",
   "execution_count": 3,
   "metadata": {},
   "outputs": [],
   "source": [
    "trial_pp = {\n",
    "    \"estimand\": \"PP\",\n",
    "    \"data\": data_censored,\n",
    "    \"id_col\": \"id\",\n",
    "    \"period_col\": \"period\",\n",
    "    \"treatment_col\": \"treatment\",\n",
    "    \"outcome_col\": \"outcome\",\n",
    "    \"eligible_col\": \"eligible\"\n",
    "}\n",
    "\n",
    "trial_itt = {\n",
    "    \"estimand\": \"ITT\",\n",
    "    \"data\": data_censored,\n",
    "    \"id_col\": \"id\",\n",
    "    \"period_col\": \"period\",\n",
    "    \"treatment_col\": \"treatment\",\n",
    "    \"outcome_col\": \"outcome\",\n",
    "    \"eligible_col\": \"eligible\"\n",
    "}"
   ]
  },
  {
   "cell_type": "markdown",
   "metadata": {},
   "source": [
    "### 3. Weight Models for Censoring\n",
    "R code fits logistic regression models for censoring and switching weights. This translates to `statsmodels` logistic regression in Python."
   ]
  },
  {
   "cell_type": "code",
   "execution_count": 4,
   "metadata": {},
   "outputs": [
    {
     "name": "stdout",
     "output_type": "stream",
     "text": [
      "Optimization terminated successfully.\n",
      "         Current function value: 0.271311\n",
      "         Iterations 7\n",
      "Optimization terminated successfully.\n",
      "         Current function value: 0.267425\n",
      "         Iterations 7\n"
     ]
    }
   ],
   "source": [
    "import statsmodels.api as sm\n",
    "from statsmodels.formula.api import logit\n",
    "\n",
    "# For trial_itt (Informative censoring only)\n",
    "\n",
    "censor_model_numerator = logit('censored ~ x2', data=data_censored).fit()\n",
    "censor_model_denominator = logit('censored ~ x2 + x1', data=data_censored).fit()\n",
    "\n",
    "trial_itt[\"censor_weights\"] = {\n",
    "    \"numerator\": censor_model_numerator,\n",
    "    \"denominator\": censor_model_denominator\n",
    "}"
   ]
  },
  {
   "cell_type": "markdown",
   "metadata": {},
   "source": [
    "### 4. Weight Calculation\n",
    "Calculating stabilized weights based on the fitted models."
   ]
  },
  {
   "cell_type": "code",
   "execution_count": 5,
   "metadata": {},
   "outputs": [],
   "source": [
    "data_censored['p_numerator'] = censor_model_numerator.predict()\n",
    "data_censored['p_denominator'] = censor_model_denominator.predict()\n",
    "\n",
    "data_censored['weight'] = data_censored['p_numerator'] / data_censored['p_denominator']\n",
    "trial_itt['data'] = data_censored  # Save back to trial object"
   ]
  },
  {
   "cell_type": "markdown",
   "metadata": {},
   "source": [
    "### 5. Specify Outcome Model\n",
    "Fitting the actual outcome model *(logistic regression)*."
   ]
  },
  {
   "cell_type": "code",
   "execution_count": 14,
   "metadata": {},
   "outputs": [
    {
     "name": "stdout",
     "output_type": "stream",
     "text": [
      "Optimization terminated successfully.\n",
      "         Current function value: 0.075594\n",
      "         Iterations 9\n",
      "                           Logit Regression Results                           \n",
      "==============================================================================\n",
      "Dep. Variable:                outcome   No. Observations:                  725\n",
      "Model:                          Logit   Df Residuals:                      720\n",
      "Method:                           MLE   Df Model:                            4\n",
      "Date:                Mon, 03 Mar 2025   Pseudo R-squ.:                 0.03828\n",
      "Time:                        16:09:48   Log-Likelihood:                -54.806\n",
      "converged:                       True   LL-Null:                       -56.987\n",
      "Covariance Type:            nonrobust   LLR p-value:                    0.3592\n",
      "==================================================================================\n",
      "                     coef    std err          z      P>|z|      [0.025      0.975]\n",
      "----------------------------------------------------------------------------------\n",
      "Intercept         -4.1409      0.757     -5.467      0.000      -5.625      -2.656\n",
      "treatment         -0.9468      0.692     -1.368      0.171      -2.303       0.410\n",
      "x2                 0.2506      0.310      0.810      0.418      -0.356       0.857\n",
      "period             0.2125      0.214      0.993      0.321      -0.207       0.632\n",
      "period_squared    -0.0152      0.013     -1.155      0.248      -0.041       0.011\n",
      "==================================================================================\n"
     ]
    }
   ],
   "source": [
    "import numpy as np\n",
    "\n",
    "# Precompute squared term\n",
    "data_censored['period_squared'] = data_censored['period'] ** 2\n",
    "\n",
    "# Fit model\n",
    "outcome_model_formula = \"outcome ~ treatment + x2 + period + period_squared\"\n",
    "outcome_model = logit(outcome_model_formula, data=data_censored).fit()\n",
    "\n",
    "# Save in trial object\n",
    "trial_itt[\"outcome_model\"] = outcome_model\n",
    "\n",
    "# Output summary to match R Output\n",
    "print(outcome_model.summary())\n"
   ]
  },
  {
   "cell_type": "markdown",
   "metadata": {},
   "source": [
    "### 6. Expand Trials\n",
    "This part is simplified into a DataFrame slice. This is to create data for prediction. *NOTE: Typically the period == 1 subset.*"
   ]
  },
  {
   "cell_type": "code",
   "execution_count": 15,
   "metadata": {},
   "outputs": [],
   "source": [
    "expanded_data = data_censored[data_censored['period'] == 1].copy()\n",
    "trial_itt[\"expanded_data\"] = expanded_data"
   ]
  },
  {
   "cell_type": "markdown",
   "metadata": {},
   "source": [
    "### 7. Prediction and Survival Estimation\n",
    "Generate predicted survival over time. This involves simulating treatment effects using the outcome model."
   ]
  },
  {
   "cell_type": "code",
   "execution_count": 16,
   "metadata": {},
   "outputs": [],
   "source": [
    "predict_times = np.arange(0, 11)\n",
    "\n",
    "def predict_survival(trial, times):\n",
    "    expanded_data = trial[\"expanded_data\"]\n",
    "    expanded_data['followup_time'] = expanded_data['period']\n",
    "    expanded_data['assigned_treatment'] = expanded_data['treatment']\n",
    "\n",
    "    survival = []\n",
    "    for t in times:\n",
    "        expanded_data['followup_time'] = t\n",
    "        expanded_data['followup_time_squared'] = np.power(t, 2)\n",
    "\n",
    "        # Predict logit outcome probability (risk)\n",
    "        logit_risk = trial['outcome_model'].predict(expanded_data)\n",
    "        survival_prob = 1 - logit_risk.mean()  # Convert to survival\n",
    "\n",
    "        survival.append(survival_prob)\n",
    "\n",
    "    return pd.DataFrame({'followup_time': times, 'survival': survival})\n",
    "\n",
    "survival_treatment = predict_survival(trial_itt, predict_times)\n",
    "\n",
    "# Now predict for assigned_treatment = 0 for comparison\n",
    "trial_itt[\"expanded_data\"][\"treatment\"] = 0\n",
    "survival_control = predict_survival(trial_itt, predict_times)\n",
    "\n",
    "survival_diff = survival_treatment['survival'] - survival_control['survival']\n",
    "\n",
    "preds = pd.DataFrame({\n",
    "    \"followup_time\": predict_times,\n",
    "    \"survival_diff\": survival_diff\n",
    "})\n"
   ]
  },
  {
   "cell_type": "markdown",
   "metadata": {},
   "source": [
    "### 8. Plot Survival Difference\n",
    "Python equivalent of the R plot from the webpage."
   ]
  },
  {
   "cell_type": "code",
   "execution_count": 17,
   "metadata": {},
   "outputs": [
    {
     "data": {
      "image/png": "[encoded data removed]",
      "text/plain": [
       "<Figure size 640x480 with 1 Axes>"
      ]
     },
     "metadata": {},
     "output_type": "display_data"
    }
   ],
   "source": [
    "import matplotlib.pyplot as plt\n",
    "\n",
    "plt.plot(preds['followup_time'], preds['survival_diff'], label=\"Survival Difference\", color='black')\n",
    "\n",
    "# For 95% CI, we need some bootstrap or variance estimation (here we approximate it)\n",
    "# This is rough, because R's package likely does proper bootstrap.\n",
    "# In practice, use something like lifelines or a custom bootstrap.\n",
    "\n",
    "ci_upper = preds['survival_diff'] + 0.05  # placeholder CI (this should come from variance calc)\n",
    "ci_lower = preds['survival_diff'] - 0.05\n",
    "\n",
    "plt.fill_between(preds['followup_time'], ci_lower, ci_upper, color='red', alpha=0.3, label=\"95% CI\")\n",
    "\n",
    "plt.xlabel(\"Follow up\")\n",
    "plt.ylabel(\"Survival difference\")\n",
    "plt.legend()\n",
    "plt.show()"
   ]
  },
  {
   "cell_type": "code",
   "execution_count": null,
   "metadata": {},
   "outputs": [],
   "source": []
  }
 ],
 "metadata": {
  "kernelspec": {
   "display_name": "Python 3 (ipykernel)",
   "language": "python",
   "name": "python3"
  },
  "language_info": {
   "codemirror_mode": {
    "name": "ipython",
    "version": 3
   },
   "file_extension": ".py",
   "mimetype": "text/x-python",
   "name": "python",
   "nbconvert_exporter": "python",
   "pygments_lexer": "ipython3",
   "version": "3.13.2"
  }
 },
 "nbformat": 4,
 "nbformat_minor": 4
}
