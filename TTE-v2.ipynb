{
 "cells": [
  {
   "cell_type": "markdown",
   "metadata": {},
   "source": [
    "<center>\n",
    "    <h1>Target Trial Emulation</h1>\n",
    "    By Christian Abay-abay & Thristan Jay Nakila\n",
    "</center>\n",
    "\n",
    "## **Instructions**\n",
    "\n",
    "1. Extract the dummy data from [RPubs - TTE](https://rpubs.com/alanyang0924/TTE) and save it as `data_censored.csv`.\n",
    "2. Convert the R code to Python in a Jupyter Notebook, ensuring the results match the original.\n",
    "3. Create a second version (`TTE-v2.ipynb`) with additional analysis.\n",
    "4. Integrate clustering in `TTE-v2`, determine where it fits, and generate insights.\n",
    "5. Work in pairs, preferably with your thesis partner.\n",
    "6. Push your Jupyter Notebooks (`TTE.ipynb` and `TTE-v2.ipynb`) to GitHub.\n",
    "7. 📅 **Deadline:** February 28, 2025, at **11:59 PM**.\n"
   ]
  },
  {
   "cell_type": "markdown",
   "metadata": {},
   "source": [
    "***\n",
    "<center>\n",
    "    <h2>R Code converted to Python</h2>\n",
    "    R Code from [RPubs - TTE](https://rpubs.com/alanyang0924/TTE) converted to Python code for this notebook.\n",
    "</center>"
   ]
  },
  {
   "cell_type": "code",
   "execution_count": 91,
   "metadata": {},
   "outputs": [],
   "source": [
    "import os\n",
    "import pandas as pd\n",
    "import numpy as np\n",
    "import statsmodels.api as sm\n",
    "import matplotlib.pyplot as plt\n",
    "from scipy.stats import norm\n"
   ]
  },
  {
   "cell_type": "code",
   "execution_count": 92,
   "metadata": {},
   "outputs": [],
   "source": [
    "import os\n",
    "import pickle\n",
    "import pandas as pd\n",
    "import statsmodels.api as sm\n",
    "from sklearn.cluster import KMeans\n",
    "from sklearn.preprocessing import Binarizer\n",
    "\n",
    "# Define the TrialEmulation class\n",
    "class TrialEmulation:\n",
    "    def __init__(self, data=None, id_col=None, period_col=None, treatment_col=None, outcome_col=None, eligible_col=None):\n",
    "        self.data = data\n",
    "        self.id_col = id_col\n",
    "        self.period_col = period_col\n",
    "        self.treatment_col = treatment_col\n",
    "        self.outcome_col = outcome_col\n",
    "        self.eligible_col = eligible_col\n",
    "        self.censor_weights = None\n",
    "        self.switch_weights = {}  # Initialize switch weights as an empty dictionary\n",
    "###################################################\n",
    "    def set_data(self, data, id_col, period_col, treatment_col, outcome_col, eligible_col):\n",
    "        \"\"\"Set the dataset and column mappings.\"\"\"\n",
    "        if not isinstance(data, pd.DataFrame):\n",
    "            raise ValueError(\"Data must be a pandas DataFrame.\")\n",
    "        \n",
    "        self.data = data.copy()  # Explicit copy to prevent unintended modifications\n",
    "        self.id_col = id_col\n",
    "        self.period_col = period_col\n",
    "        self.treatment_col = treatment_col\n",
    "        self.outcome_col = outcome_col\n",
    "        self.eligible_col = eligible_col\n",
    "        return self  # Allow method chaining\n",
    "###################################################\n",
    "    def show(self, num_rows=5):\n",
    "        \"\"\"Display dataset head.\"\"\"\n",
    "        if self.data is not None:\n",
    "            print(f\"Dataset Head ({num_rows} rows):\")\n",
    "            print(self.data.head(num_rows))\n",
    "        else:\n",
    "            print(\"No data available in this instance.\")\n",
    "###################################################\n",
    "    def set_switch_weight_model(self, numerator, denominator, model_fitter):\n",
    "        \"\"\"Set the switch weight model formulas and the model fitter.\"\"\"\n",
    "        if not callable(model_fitter):\n",
    "            raise ValueError(\"model_fitter must be a callable function.\")\n",
    "        \n",
    "        self.switch_weights = {\n",
    "            \"numerator\": numerator,\n",
    "            \"denominator\": denominator,\n",
    "            \"model_fitter\": model_fitter\n",
    "        }\n",
    "        return self  # Allow method chaining\n",
    "###################################################\n",
    "    def calculate_weights(self, save_path=None):\n",
    "        \"\"\"Fit logistic regression models for treatment weighting.\"\"\"\n",
    "        if self.data is None:\n",
    "            raise ValueError(\"No data has been set.\")\n",
    "        if not self.switch_weights:\n",
    "            raise ValueError(\"Switch weight model has not been set.\")\n",
    "\n",
    "        try:\n",
    "            num_features = self.switch_weights[\"numerator\"].split(\" + \")\n",
    "            denom_features = self.switch_weights[\"denominator\"].split(\" + \")\n",
    "            X_num = sm.add_constant(self.data[num_features])  # Add intercept\n",
    "            X_denom = sm.add_constant(self.data[denom_features])  # Add intercept\n",
    "            y = self.data[self.treatment_col]\n",
    "        except KeyError as e:\n",
    "            raise ValueError(f\"Column not found in data: {e}\")\n",
    "\n",
    "        # Fit logistic regression models\n",
    "        model_num = sm.Logit(y, X_num).fit(disp=0)\n",
    "        model_denom = sm.Logit(y, X_denom).fit(disp=0)\n",
    "\n",
    "        # Save models if path is provided\n",
    "        if save_path:\n",
    "            os.makedirs(save_path, exist_ok=True)\n",
    "            with open(os.path.join(save_path, \"numerator_model.pkl\"), \"wb\") as f:\n",
    "                pickle.dump(model_num, f)\n",
    "            with open(os.path.join(save_path, \"denominator_model.pkl\"), \"wb\") as f:\n",
    "                pickle.dump(model_denom, f)\n",
    "\n",
    "        self.switch_weights[\"fitted\"] = True\n",
    "        print(\"Weight models fitted and saved at:\", save_path)\n",
    "###################################################\n",
    "    def set_censor_weight_model(self, censor_event, numerator, denominator, pool_models, model_fitter):\n",
    "        \"\"\"Set the censoring weight model with logistic regression.\"\"\"\n",
    "        if censor_event not in self.data.columns:\n",
    "            raise ValueError(f\"Censor event column '{censor_event}' not found in data.\")\n",
    "\n",
    "        self.censor_event = censor_event\n",
    "        self.numerator = numerator\n",
    "        self.denominator = denominator\n",
    "        self.pool_models = pool_models\n",
    "        self.model_fitter = model_fitter\n",
    "\n",
    "        # Fit numerator model: 1 - censored ~ x2\n",
    "        X_numerator = sm.add_constant(self.data[[col.strip() for col in numerator.split(\"+\")]])\n",
    "        y_numerator = 1 - self.data[censor_event].astype(int)  # Ensure binary\n",
    "        numerator_model = sm.Logit(y_numerator, X_numerator).fit(disp=0)\n",
    "\n",
    "        # Fit denominator model: 1 - censored ~ x2 + x1\n",
    "        X_denominator = sm.add_constant(self.data[[col.strip() for col in denominator.split(\"+\")]])\n",
    "        y_denominator = 1 - self.data[censor_event].astype(int)  # Ensure binary\n",
    "        denominator_model = sm.Logit(y_denominator, X_denominator).fit(disp=0)\n",
    "\n",
    "        self.censor_weights = {\n",
    "            \"Numerator formula\": f\"1 - {censor_event} ~ {numerator}\",\n",
    "            \"Denominator formula\": f\"1 - {censor_event} ~ {denominator}\",\n",
    "            \"Model fitter type\": \"te_stats_glm_logit\",\n",
    "            \"Weight models fitted\": False,\n",
    "            \"Numerator Model\": numerator_model,\n",
    "            \"Denominator Model\": denominator_model\n",
    "        }\n",
    "        print(f\"Set censoring weight model:\\n{self.censor_weights}\")\n",
    "        return self\n",
    "###################################################\n",
    "    def show_weight_models(self):\n",
    "        \"\"\"Display the fitted weight models.\"\"\"\n",
    "        if not self.switch_weights.get(\"fitted\"):\n",
    "            print(\"Switch weight models have not been fitted yet.\")\n",
    "        else:\n",
    "            print(\"Switch Weight Models:\")\n",
    "            print(self.switch_weights)\n",
    "###################################################\n",
    "    def apply_clustering(self, features, n_clusters=3):\n",
    "        \"\"\"Apply K-Means clustering to the dataset.\"\"\"\n",
    "        if not all(feature in self.data.columns for feature in features):\n",
    "            raise ValueError(\"Some clustering features are missing from the dataset.\")\n",
    "        \n",
    "        kmeans = KMeans(n_clusters=n_clusters, random_state=42)\n",
    "        self.data['cluster'] = kmeans.fit_predict(self.data[features])\n",
    "        print(\"Clustering applied successfully.\")\n",
    "###################################################\n",
    "    def apply_dichotomization(self, column, threshold=None):\n",
    "        \"\"\"Dichotomize a column based on a given threshold or median.\"\"\"\n",
    "        if column not in self.data.columns:\n",
    "            raise ValueError(f\"Column '{column}' not found in data.\")\n",
    "        \n",
    "        if threshold is None:\n",
    "            threshold = self.data[column].median()\n",
    "        binarizer = Binarizer(threshold=threshold)\n",
    "        self.data[column + \"_binary\"] = binarizer.fit_transform(self.data[[column]].values.reshape(-1, 1))\n",
    "        print(f\"Dichotomization applied to {column} with threshold {threshold}.\")\n",
    "###################################################\n",
    "    def __repr__(self):\n",
    "        \"\"\"Provide a string representation for debugging.\"\"\"\n",
    "        return (f\"TrialEmulation(id_col='{self.id_col}', period_col='{self.period_col}', \"\n",
    "                f\"treatment_col='{self.treatment_col}', outcome_col='{self.outcome_col}', \"\n",
    "                f\"eligible_col='{self.eligible_col}', data_shape={self.data.shape if self.data is not None else None})\")\n"
   ]
  },
  {
   "cell_type": "markdown",
   "metadata": {},
   "source": [
    "# 1. SETUP"
   ]
  },
  {
   "cell_type": "code",
   "execution_count": 93,
   "metadata": {},
   "outputs": [],
   "source": [
    "\n",
    "# Load data\n",
    "file_path = \"data/data_censored.csv\"\n",
    "data_censored = pd.read_csv(file_path)\n",
    "\n",
    "\n",
    "# Create directories for saving models\n",
    "trial_pp_dir = os.path.join(os.getcwd(), \"trial_pp\")\n",
    "trial_itt_dir = os.path.join(os.getcwd(), \"trial_itt\")\n",
    "os.makedirs(trial_pp_dir, exist_ok=True)\n",
    "os.makedirs(trial_itt_dir, exist_ok=True)\n"
   ]
  },
  {
   "cell_type": "markdown",
   "metadata": {},
   "source": [
    "# 2. Data Preparation"
   ]
  },
  {
   "cell_type": "code",
   "execution_count": 94,
   "metadata": {},
   "outputs": [
    {
     "name": "stdout",
     "output_type": "stream",
     "text": [
      "Dataset Head:\n",
      "   id  period  treatment  x1        x2  x3        x4  age     age_s  outcome  \\\n",
      "0   1       0          1   1  1.146148   0  0.734203   36  0.083333        0   \n",
      "1   1       1          1   1  0.002200   0  0.734203   37  0.166667        0   \n",
      "2   1       2          1   0 -0.481762   0  0.734203   38  0.250000        0   \n",
      "3   1       3          1   0  0.007872   0  0.734203   39  0.333333        0   \n",
      "4   1       4          1   1  0.216054   0  0.734203   40  0.416667        0   \n",
      "\n",
      "   censored  eligible  \n",
      "0         0         1  \n",
      "1         0         0  \n",
      "2         0         0  \n",
      "3         0         0  \n",
      "4         0         0  \n"
     ]
    }
   ],
   "source": [
    "print(\"Dataset Head:\")\n",
    "print(data_censored.head())"
   ]
  },
  {
   "cell_type": "code",
   "execution_count": 95,
   "metadata": {},
   "outputs": [
    {
     "name": "stdout",
     "output_type": "stream",
     "text": [
      "---------------------------------------------------------------\n",
      "Dataset Head (5 rows):\n",
      "   id  period  treatment  x1        x2  x3        x4  age     age_s  outcome  \\\n",
      "0   1       0          1   1  1.146148   0  0.734203   36  0.083333        0   \n",
      "1   1       1          1   1  0.002200   0  0.734203   37  0.166667        0   \n",
      "2   1       2          1   0 -0.481762   0  0.734203   38  0.250000        0   \n",
      "3   1       3          1   0  0.007872   0  0.734203   39  0.333333        0   \n",
      "4   1       4          1   1  0.216054   0  0.734203   40  0.416667        0   \n",
      "\n",
      "   censored  eligible  \n",
      "0         0         1  \n",
      "1         0         0  \n",
      "2         0         0  \n",
      "3         0         0  \n",
      "4         0         0  \n"
     ]
    }
   ],
   "source": [
    "# Initialize and set data for per-protocol analysis\n",
    "trial_pp = TrialEmulation().set_data(\n",
    "    data_censored, \n",
    "    id_col=\"id\", \n",
    "    period_col=\"period\", \n",
    "    treatment_col=\"treatment\", \n",
    "    outcome_col=\"outcome\", \n",
    "    eligible_col=\"eligible\"\n",
    ")\n",
    "\n",
    "# Initialize and set data for ITT (Intention-To-Treat) without method chaining\n",
    "trial_itt = TrialEmulation()\n",
    "trial_itt.set_data(\n",
    "    data_censored, \n",
    "    id_col=\"id\", \n",
    "    period_col=\"period\", \n",
    "    treatment_col=\"treatment\", \n",
    "    outcome_col=\"outcome\", \n",
    "    eligible_col=\"eligible\"\n",
    ")\n",
    "\n",
    "print(\"---------------------------------------------------------------\")\n",
    "# Show the first few rows of trial_pp\n",
    "trial_pp.show()\n"
   ]
  },
  {
   "cell_type": "markdown",
   "metadata": {},
   "source": [
    "# 3. Weight models and censoring"
   ]
  },
  {
   "cell_type": "markdown",
   "metadata": {},
   "source": [
    "## 3.1 Censoring due to treatment switching"
   ]
  },
  {
   "cell_type": "code",
   "execution_count": 96,
   "metadata": {
    "scrolled": true
   },
   "outputs": [
    {
     "ename": "ValueError",
     "evalue": "model_fitter must be a callable function.",
     "output_type": "error",
     "traceback": [
      "\u001b[1;31m---------------------------------------------------------------------------\u001b[0m",
      "\u001b[1;31mValueError\u001b[0m                                Traceback (most recent call last)",
      "Cell \u001b[1;32mIn[96], line 2\u001b[0m\n\u001b[0;32m      1\u001b[0m \u001b[38;5;66;03m# Set switch weight model\u001b[39;00m\n\u001b[1;32m----> 2\u001b[0m \u001b[43mtrial_pp\u001b[49m\u001b[38;5;241;43m.\u001b[39;49m\u001b[43mset_switch_weight_model\u001b[49m\u001b[43m(\u001b[49m\n\u001b[0;32m      3\u001b[0m \u001b[43m    \u001b[49m\u001b[43mnumerator\u001b[49m\u001b[38;5;241;43m=\u001b[39;49m\u001b[38;5;124;43m\"\u001b[39;49m\u001b[38;5;124;43mage\u001b[39;49m\u001b[38;5;124;43m\"\u001b[39;49m\u001b[43m,\u001b[49m\n\u001b[0;32m      4\u001b[0m \u001b[43m    \u001b[49m\u001b[43mdenominator\u001b[49m\u001b[38;5;241;43m=\u001b[39;49m\u001b[38;5;124;43m\"\u001b[39;49m\u001b[38;5;124;43mage + x1 + x3\u001b[39;49m\u001b[38;5;124;43m\"\u001b[39;49m\u001b[43m,\u001b[49m\n\u001b[0;32m      5\u001b[0m \u001b[43m    \u001b[49m\u001b[43mmodel_fitter\u001b[49m\u001b[38;5;241;43m=\u001b[39;49m\u001b[38;5;124;43m\"\u001b[39;49m\u001b[38;5;124;43mte_stats_glm_logit\u001b[39;49m\u001b[38;5;124;43m\"\u001b[39;49m\n\u001b[0;32m      6\u001b[0m \u001b[43m)\u001b[49m\n\u001b[0;32m      7\u001b[0m trial_pp\u001b[38;5;241m.\u001b[39mcalculate_weights(save_path\u001b[38;5;241m=\u001b[39mos\u001b[38;5;241m.\u001b[39mpath\u001b[38;5;241m.\u001b[39mjoin(trial_pp_dir, \u001b[38;5;124m\"\u001b[39m\u001b[38;5;124mswitch_models\u001b[39m\u001b[38;5;124m\"\u001b[39m))\n",
      "Cell \u001b[1;32mIn[92], line 44\u001b[0m, in \u001b[0;36mTrialEmulation.set_switch_weight_model\u001b[1;34m(self, numerator, denominator, model_fitter)\u001b[0m\n\u001b[0;32m     42\u001b[0m \u001b[38;5;250m\u001b[39m\u001b[38;5;124;03m\"\"\"Set the switch weight model formulas and the model fitter.\"\"\"\u001b[39;00m\n\u001b[0;32m     43\u001b[0m \u001b[38;5;28;01mif\u001b[39;00m \u001b[38;5;129;01mnot\u001b[39;00m \u001b[38;5;28mcallable\u001b[39m(model_fitter):\n\u001b[1;32m---> 44\u001b[0m     \u001b[38;5;28;01mraise\u001b[39;00m \u001b[38;5;167;01mValueError\u001b[39;00m(\u001b[38;5;124m\"\u001b[39m\u001b[38;5;124mmodel_fitter must be a callable function.\u001b[39m\u001b[38;5;124m\"\u001b[39m)\n\u001b[0;32m     46\u001b[0m \u001b[38;5;28mself\u001b[39m\u001b[38;5;241m.\u001b[39mswitch_weights \u001b[38;5;241m=\u001b[39m {\n\u001b[0;32m     47\u001b[0m     \u001b[38;5;124m\"\u001b[39m\u001b[38;5;124mnumerator\u001b[39m\u001b[38;5;124m\"\u001b[39m: numerator,\n\u001b[0;32m     48\u001b[0m     \u001b[38;5;124m\"\u001b[39m\u001b[38;5;124mdenominator\u001b[39m\u001b[38;5;124m\"\u001b[39m: denominator,\n\u001b[0;32m     49\u001b[0m     \u001b[38;5;124m\"\u001b[39m\u001b[38;5;124mmodel_fitter\u001b[39m\u001b[38;5;124m\"\u001b[39m: model_fitter\n\u001b[0;32m     50\u001b[0m }\n\u001b[0;32m     51\u001b[0m \u001b[38;5;28;01mreturn\u001b[39;00m \u001b[38;5;28mself\u001b[39m\n",
      "\u001b[1;31mValueError\u001b[0m: model_fitter must be a callable function."
     ]
    }
   ],
   "source": [
    "# Set switch weight model\n",
    "trial_pp.set_switch_weight_model(\n",
    "    numerator=\"age\",\n",
    "    denominator=\"age + x1 + x3\",\n",
    "    model_fitter=\"te_stats_glm_logit\"\n",
    ")\n",
    "trial_pp.calculate_weights(save_path=os.path.join(trial_pp_dir, \"switch_models\"))"
   ]
  },
  {
   "cell_type": "markdown",
   "metadata": {},
   "source": [
    "## 3.2 Other informative censoring"
   ]
  },
  {
   "cell_type": "code",
   "execution_count": 97,
   "metadata": {},
   "outputs": [
    {
     "name": "stdout",
     "output_type": "stream",
     "text": [
      "Set censoring weight model:\n",
      "{'Numerator formula': '1 - censored ~ x2', 'Denominator formula': '1 - censored ~ x2 + x1', 'Model fitter type': 'te_stats_glm_logit', 'Weight models fitted': False, 'Numerator Model': <statsmodels.discrete.discrete_model.BinaryResultsWrapper object at 0x00000256CB958230>, 'Denominator Model': <statsmodels.discrete.discrete_model.BinaryResultsWrapper object at 0x00000256CBB79430>}\n",
      "Set censoring weight model:\n",
      "{'Numerator formula': '1 - censored ~ x2', 'Denominator formula': '1 - censored ~ x2 + x1', 'Model fitter type': 'te_stats_glm_logit', 'Weight models fitted': False, 'Numerator Model': <statsmodels.discrete.discrete_model.BinaryResultsWrapper object at 0x00000256CBBDAE70>, 'Denominator Model': <statsmodels.discrete.discrete_model.BinaryResultsWrapper object at 0x00000256CBBD80B0>}\n"
     ]
    },
    {
     "data": {
      "text/plain": [
       "TrialEmulation(id_col='id', period_col='period', treatment_col='treatment', outcome_col='outcome', eligible_col='eligible', data_shape=(725, 12))"
      ]
     },
     "execution_count": 97,
     "metadata": {},
     "output_type": "execute_result"
    }
   ],
   "source": [
    "# Apply censoring weight model to trial_pp\n",
    "trial_pp.set_censor_weight_model(\n",
    "    censor_event=\"censored\",\n",
    "    numerator=\"x2\",\n",
    "    denominator=\"x2 + x1\",\n",
    "    pool_models=\"none\",\n",
    "    model_fitter=f\"{trial_pp_dir}/switch_models\"\n",
    ")\n",
    "\n",
    "# Apply censoring weight model to trial_itt\n",
    "trial_itt.set_censor_weight_model(\n",
    "    censor_event=\"censored\",\n",
    "    numerator=\"x2\",\n",
    "    denominator=\"x2 + x1\",\n",
    "    pool_models=\"numerator\",\n",
    "    model_fitter=f\"{trial_itt_dir}/switch_models\"\n",
    ")"
   ]
  },
  {
   "cell_type": "markdown",
   "metadata": {},
   "source": [
    "# 4. Calculate Weights"
   ]
  },
  {
   "cell_type": "code",
   "execution_count": 98,
   "metadata": {},
   "outputs": [
    {
     "ename": "ValueError",
     "evalue": "Switch weight model has not been set.",
     "output_type": "error",
     "traceback": [
      "\u001b[1;31m---------------------------------------------------------------------------\u001b[0m",
      "\u001b[1;31mValueError\u001b[0m                                Traceback (most recent call last)",
      "Cell \u001b[1;32mIn[98], line 1\u001b[0m\n\u001b[1;32m----> 1\u001b[0m trial_pp \u001b[38;5;241m=\u001b[39m \u001b[43mtrial_pp\u001b[49m\u001b[38;5;241;43m.\u001b[39;49m\u001b[43mcalculate_weights\u001b[49m\u001b[43m(\u001b[49m\u001b[43m)\u001b[49m\n\u001b[0;32m      2\u001b[0m trial_itt \u001b[38;5;241m=\u001b[39m trial_itt\u001b[38;5;241m.\u001b[39mcalculate_weights()\n\u001b[0;32m      4\u001b[0m trial_itt\u001b[38;5;241m.\u001b[39mshow_weight_models()\n",
      "Cell \u001b[1;32mIn[92], line 58\u001b[0m, in \u001b[0;36mTrialEmulation.calculate_weights\u001b[1;34m(self, save_path)\u001b[0m\n\u001b[0;32m     56\u001b[0m     \u001b[38;5;28;01mraise\u001b[39;00m \u001b[38;5;167;01mValueError\u001b[39;00m(\u001b[38;5;124m\"\u001b[39m\u001b[38;5;124mNo data has been set.\u001b[39m\u001b[38;5;124m\"\u001b[39m)\n\u001b[0;32m     57\u001b[0m \u001b[38;5;28;01mif\u001b[39;00m \u001b[38;5;129;01mnot\u001b[39;00m \u001b[38;5;28mself\u001b[39m\u001b[38;5;241m.\u001b[39mswitch_weights:\n\u001b[1;32m---> 58\u001b[0m     \u001b[38;5;28;01mraise\u001b[39;00m \u001b[38;5;167;01mValueError\u001b[39;00m(\u001b[38;5;124m\"\u001b[39m\u001b[38;5;124mSwitch weight model has not been set.\u001b[39m\u001b[38;5;124m\"\u001b[39m)\n\u001b[0;32m     60\u001b[0m \u001b[38;5;28;01mtry\u001b[39;00m:\n\u001b[0;32m     61\u001b[0m     num_features \u001b[38;5;241m=\u001b[39m \u001b[38;5;28mself\u001b[39m\u001b[38;5;241m.\u001b[39mswitch_weights[\u001b[38;5;124m\"\u001b[39m\u001b[38;5;124mnumerator\u001b[39m\u001b[38;5;124m\"\u001b[39m]\u001b[38;5;241m.\u001b[39msplit(\u001b[38;5;124m\"\u001b[39m\u001b[38;5;124m + \u001b[39m\u001b[38;5;124m\"\u001b[39m)\n",
      "\u001b[1;31mValueError\u001b[0m: Switch weight model has not been set."
     ]
    }
   ],
   "source": [
    "trial_pp = trial_pp.calculate_weights()\n",
    "trial_itt = trial_itt.calculate_weights()\n",
    "\n",
    "trial_itt.show_weight_models()\n",
    "trial_pp.show_weight_models()"
   ]
  }
 ],
 "metadata": {
  "kernelspec": {
   "display_name": "Python 3 (ipykernel)",
   "language": "python",
   "name": "python3"
  },
  "language_info": {
   "codemirror_mode": {
    "name": "ipython",
    "version": 3
   },
   "file_extension": ".py",
   "mimetype": "text/x-python",
   "name": "python",
   "nbconvert_exporter": "python",
   "pygments_lexer": "ipython3",
   "version": "3.12.6"
  }
 },
 "nbformat": 4,
 "nbformat_minor": 4
}
