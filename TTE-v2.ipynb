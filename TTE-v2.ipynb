{
 "cells": [
  {
   "cell_type": "markdown",
   "metadata": {},
   "source": [
    "<center>\n",
    "    <h1>Target Trial Emulation</h1>\n",
    "    By Christian Abay-abay & Thristan Jay Nakila\n",
    "</center>\n",
    "\n",
    "## **Instructions**\n",
    "\n",
    "1. Extract the dummy data from [RPubs - TTE](https://rpubs.com/alanyang0924/TTE) and save it as `data_censored.csv`.\n",
    "2. Convert the R code to Python in a Jupyter Notebook, ensuring the results match the original.\n",
    "3. Create a second version (`TTE-v2.ipynb`) with additional analysis.\n",
    "4. Integrate clustering in `TTE-v2`, determine where it fits, and generate insights.\n",
    "5. Work in pairs, preferably with your thesis partner.\n",
    "6. Push your Jupyter Notebooks (`TTE.ipynb` and `TTE-v2.ipynb`) to GitHub.\n",
    "7. 📅 **Deadline:** February 28, 2025, at **11:59 PM**.\n"
   ]
  },
  {
   "cell_type": "markdown",
   "metadata": {},
   "source": [
    "***\n",
    "<center>\n",
    "    <h2>Converting R Code to Python</h2>\n",
    "    R Code from [RPubs - TTE](https://rpubs.com/alanyang0924/TTE) converted to Python code for this notebook.\n",
    "</center>"
   ]
  },
  {
   "cell_type": "markdown",
   "metadata": {},
   "source": [
    "### 1. Setting Up - Define Estimand and Create Directories"
   ]
  },
  {
   "cell_type": "code",
   "execution_count": 1,
   "metadata": {},
   "outputs": [],
   "source": [
    "trial_itt = {\n",
    "    \"estimand\": \"ITT\",\n",
    "    \"directory\": \"temp/trial_itt\"\n",
    "}"
   ]
  },
  {
   "cell_type": "markdown",
   "metadata": {},
   "source": [
    "### 2. Load Data\n",
    "This loads data_censored.csv and inspects the first few rows."
   ]
  },
  {
   "cell_type": "code",
   "execution_count": 2,
   "metadata": {},
   "outputs": [
    {
     "name": "stdout",
     "output_type": "stream",
     "text": [
      "   id  period  treatment  x1        x2  x3        x4  age     age_s  outcome  \\\n",
      "0   1       0          1   1  1.146148   0  0.734203   36  0.083333        0   \n",
      "1   1       1          1   1  0.002200   0  0.734203   37  0.166667        0   \n",
      "2   1       2          1   0 -0.481762   0  0.734203   38  0.250000        0   \n",
      "3   1       3          1   0  0.007872   0  0.734203   39  0.333333        0   \n",
      "4   1       4          1   1  0.216054   0  0.734203   40  0.416667        0   \n",
      "\n",
      "   censored  eligible  \n",
      "0         0         1  \n",
      "1         0         0  \n",
      "2         0         0  \n",
      "3         0         0  \n",
      "4         0         0  \n"
     ]
    }
   ],
   "source": [
    "import pandas as pd\n",
    "\n",
    "file_path = 'data/data_censored.csv'\n",
    "data_censored = pd.read_csv(file_path)\n",
    "\n",
    "trial_itt = {\n",
    "    \"estimand\": \"ITT\",\n",
    "    \"directory\": \"temp/trial_itt\",\n",
    "    \"data\": data_censored\n",
    "}\n",
    "\n",
    "print(data_censored.head())"
   ]
  },
  {
   "cell_type": "markdown",
   "metadata": {},
   "source": [
    "### 3. Fit Censoring Weight Models\n",
    "Fit two logistic regression models — numerator and denominator for inverse probability of censoring weights (IPCW)."
   ]
  },
  {
   "cell_type": "code",
   "execution_count": 3,
   "metadata": {},
   "outputs": [],
   "source": [
    "import statsmodels.api as sm\n",
    "\n",
    "data_censored['not_censored'] = 1 - data_censored['censored']\n",
    "\n",
    "numerator_model = sm.Logit(\n",
    "    data_censored['not_censored'],\n",
    "    sm.add_constant(data_censored[['x2']])\n",
    ").fit(disp=0)\n",
    "\n",
    "denominator_model = sm.Logit(\n",
    "    data_censored['not_censored'],\n",
    "    sm.add_constant(data_censored[['x2', 'x1']])\n",
    ").fit(disp=0)\n",
    "\n",
    "data_censored['p_numerator'] = numerator_model.predict(sm.add_constant(data_censored[['x2']]))\n",
    "data_censored['p_denominator'] = denominator_model.predict(sm.add_constant(data_censored[['x2', 'x1']]))\n",
    "\n",
    "data_censored['weight'] = data_censored['p_numerator'] / data_censored['p_denominator']\n",
    "\n",
    "trial_itt['data'] = data_censored"
   ]
  },
  {
   "cell_type": "markdown",
   "metadata": {},
   "source": [
    "### 4. Expand Data - Baseline Setup\n",
    "Only keep period 1 data (entry point into the trial)."
   ]
  },
  {
   "cell_type": "code",
   "execution_count": 4,
   "metadata": {},
   "outputs": [],
   "source": [
    "expanded_data = data_censored[data_censored['period'] == 1].copy()"
   ]
  },
  {
   "cell_type": "markdown",
   "metadata": {},
   "source": [
    "### 5. Generate Follow-Up Time and Assigned Treatment\n",
    "Expand each row to 11 rows (follow-up 0 to 10), and create required columns."
   ]
  },
  {
   "cell_type": "code",
   "execution_count": 18,
   "metadata": {},
   "outputs": [
    {
     "name": "stdout",
     "output_type": "stream",
     "text": [
      "outcome\n",
      "0.0    1317481\n",
      "1.0       4081\n",
      "Name: count, dtype: int64\n"
     ]
    }
   ],
   "source": [
    "import numpy as np\n",
    "\n",
    "# Expand rows (repeat each row 11 times, once for each follow-up time)\n",
    "expanded_data = expanded_data.loc[expanded_data.index.repeat(11)].reset_index(drop=True)\n",
    "\n",
    "# Add follow-up time (0 to 10)\n",
    "expanded_data['followup_time'] = np.tile(np.arange(11), len(expanded_data) // 11)\n",
    "\n",
    "# Assign initial treatment to all expanded rows\n",
    "expanded_data['assigned_treatment'] = expanded_data['treatment']\n",
    "\n",
    "# Precompute squared follow-up time\n",
    "expanded_data['followup_time_squared'] = expanded_data['followup_time'] ** 2\n",
    "\n",
    "# If `outcome` already exists (from prior processing), drop it to avoid conflict\n",
    "if 'outcome' in expanded_data.columns:\n",
    "    expanded_data = expanded_data.drop(columns=['outcome'])\n",
    "\n",
    "# Merge back the correct outcome (from original data_censored)\n",
    "expanded_data = expanded_data.merge(\n",
    "    data_censored[['id', 'period', 'outcome']],\n",
    "    left_on=['id', 'followup_time'],\n",
    "    right_on=['id', 'period'],\n",
    "    how='left'\n",
    ")\n",
    "\n",
    "# Drop redundant 'period' column\n",
    "expanded_data = expanded_data.drop(columns=['period'], errors='ignore')\n",
    "\n",
    "# Ensure no duplicate weight column before merge\n",
    "if 'weight' in expanded_data.columns:\n",
    "    expanded_data = expanded_data.drop(columns=['weight'])\n",
    "\n",
    "# Merge back the correct weights\n",
    "expanded_data = expanded_data.merge(\n",
    "    data_censored[['id', 'weight']], on='id', how='left'\n",
    ")\n",
    "\n",
    "# Fill missing outcomes with 0 (no event recorded = no event happened)\n",
    "expanded_data['outcome'] = expanded_data['outcome'].fillna(0)\n",
    "\n",
    "# Final sanity check: Check how many outcomes exist (important for Step 6)\n",
    "print(expanded_data['outcome'].value_counts(dropna=False))"
   ]
  },
  {
   "cell_type": "markdown",
   "metadata": {},
   "source": [
    "### 6. Fit Outcome Model (Marginal Structural Model - MSM)\n",
    "Fit logistic regression for the outcome, adjusting for follow-up time, treatment, and covariates, using IPC weights."
   ]
  },
  {
   "cell_type": "code",
   "execution_count": 19,
   "metadata": {},
   "outputs": [
    {
     "name": "stdout",
     "output_type": "stream",
     "text": [
      "                 Generalized Linear Model Regression Results                  \n",
      "==============================================================================\n",
      "Dep. Variable:                outcome   No. Observations:              1321562\n",
      "Model:                            GLM   Df Residuals:               1321637.74\n",
      "Model Family:                Binomial   Df Model:                            4\n",
      "Link Function:                  Logit   Scale:                          1.0000\n",
      "Method:                          IRLS   Log-Likelihood:                -19891.\n",
      "Date:                Wed, 05 Mar 2025   Deviance:                       39781.\n",
      "Time:                        01:59:12   Pearson chi2:                 5.25e+10\n",
      "No. Iterations:                    13   Pseudo R-squ. (CS):            0.01180\n",
      "Covariance Type:            nonrobust                                         \n",
      "=========================================================================================\n",
      "                            coef    std err          z      P>|z|      [0.025      0.975]\n",
      "-----------------------------------------------------------------------------------------\n",
      "const                   -26.7273      0.399    -66.935      0.000     -27.510     -25.945\n",
      "assigned_treatment        3.8749      0.063     61.404      0.000       3.751       3.999\n",
      "x2                       -2.0420      0.024    -84.070      0.000      -2.090      -1.994\n",
      "followup_time             5.0270      0.114     44.179      0.000       4.804       5.250\n",
      "followup_time_squared    -0.3642      0.008    -44.360      0.000      -0.380      -0.348\n",
      "=========================================================================================\n"
     ]
    }
   ],
   "source": [
    "import statsmodels.api as sm\n",
    "\n",
    "# Prepare design matrix X and outcome y\n",
    "X = sm.add_constant(expanded_data[['assigned_treatment', 'x2', 'followup_time', 'followup_time_squared']])\n",
    "y = expanded_data['outcome']\n",
    "\n",
    "# Safeguard: Replace any broken weights (optional but safe)\n",
    "expanded_data['weight'] = expanded_data['weight'].fillna(1e-6).replace(0, 1e-6)\n",
    "\n",
    "# Check if outcome has only one class (all 0s or all 1s)\n",
    "if len(y.unique()) < 2:\n",
    "    print(\"⚠️ Only one outcome class detected (all 0s or all 1s). Skipping model fit.\")\n",
    "    trial_itt['outcome_model'] = None\n",
    "    trial_itt['outcome_columns'] = X.columns.tolist()\n",
    "else:\n",
    "    outcome_model = sm.GLM(\n",
    "        y, X, family=sm.families.Binomial(), freq_weights=expanded_data['weight']\n",
    "    ).fit()\n",
    "\n",
    "    trial_itt['outcome_model'] = outcome_model\n",
    "    trial_itt['outcome_columns'] = X.columns.tolist()\n",
    "\n",
    "    print(outcome_model.summary())"
   ]
  },
  {
   "cell_type": "markdown",
   "metadata": {},
   "source": [
    "### 7. Predict Survival for Treatment and Control\n",
    "Use the fitted MSM to predict survival probabilities under both treatment and control conditions."
   ]
  },
  {
   "cell_type": "code",
   "execution_count": 24,
   "metadata": {
    "scrolled": true
   },
   "outputs": [],
   "source": [
    "def predict_survival(data, assigned_treatment):\n",
    "    temp = data.copy()\n",
    "    temp['assigned_treatment'] = assigned_treatment\n",
    "\n",
    "    if 'followup_time_squared' not in temp.columns:\n",
    "        temp['followup_time_squared'] = temp['followup_time'] ** 2\n",
    "\n",
    "    # Manually add const to remove all doubt\n",
    "    temp['const'] = 1.0\n",
    "\n",
    "    # Force column order to match training\n",
    "    missing_cols = [col for col in trial_itt['outcome_columns'] if col not in temp.columns]\n",
    "    if missing_cols:\n",
    "        raise ValueError(f\"Missing columns in prediction data: {missing_cols}\")\n",
    "\n",
    "    X = temp[trial_itt['outcome_columns']]\n",
    "\n",
    "    logit_risk = trial_itt['outcome_model'].predict(X)\n",
    "    survival_prob = 1 - logit_risk\n",
    "\n",
    "    return survival_prob.groupby(temp['followup_time']).mean()\n",
    "\n",
    "# Predict survival for both treatment arms\n",
    "survival_treatment = predict_survival(expanded_data, assigned_treatment=1)\n",
    "survival_control = predict_survival(expanded_data, assigned_treatment=0)"
   ]
  },
  {
   "cell_type": "markdown",
   "metadata": {},
   "source": [
    "### 8. Compute Survival Difference and 95% Confidence Interval\n",
    "Compute the difference between treatment and control survival, plus a 95% confidence interval."
   ]
  },
  {
   "cell_type": "code",
   "execution_count": 30,
   "metadata": {},
   "outputs": [],
   "source": [
    "# Compute the difference between survival curves (treatment vs. control)\n",
    "survival_diff = survival_treatment - survival_control\n",
    "\n",
    "# Get standard error for treatment effect directly from the fitted outcome model (matches R)\n",
    "treatment_se = trial_itt['outcome_model'].bse['assigned_treatment']\n",
    "\n",
    "# 95% Confidence Interval using the correct standard error\n",
    "z_critical = 1.96  # 95% confidence level Z-score\n",
    "\n",
    "ci_upper = survival_diff + z_critical * treatment_se\n",
    "ci_lower = survival_diff - z_critical * treatment_se"
   ]
  },
  {
   "cell_type": "markdown",
   "metadata": {},
   "source": [
    "### 9. Plot Survival Difference with Confidence Interval\n",
    "Plot survival difference over follow-up time, with a shaded 95% confidence band."
   ]
  },
  {
   "cell_type": "code",
   "execution_count": 31,
   "metadata": {},
   "outputs": [
    {
     "data": {
      "image/png": "[encoded data removed]",
      "text/plain": [
       "<Figure size 800x500 with 1 Axes>"
      ]
     },
     "metadata": {},
     "output_type": "display_data"
    }
   ],
   "source": [
    "import matplotlib.pyplot as plt\n",
    "\n",
    "plt.figure(figsize=(8, 5))\n",
    "\n",
    "# Plot the survival difference curve\n",
    "plt.plot(survival_diff.index, survival_diff, color='black', label='Survival Difference')\n",
    "\n",
    "# Shaded area = confidence interval\n",
    "plt.fill_between(survival_diff.index, ci_lower, ci_upper, color='red', alpha=0.3, label='95% CI')\n",
    "\n",
    "# Labels and legend\n",
    "plt.xlabel(\"Follow-up Time\")\n",
    "plt.ylabel(\"Survival Difference\")\n",
    "plt.legend()\n",
    "\n",
    "# Show the plot\n",
    "plt.show()"
   ]
  },
  {
   "cell_type": "code",
   "execution_count": null,
   "metadata": {},
   "outputs": [],
   "source": []
  }
 ],
 "metadata": {
  "kernelspec": {
   "display_name": "Python 3 (ipykernel)",
   "language": "python",
   "name": "python3"
  },
  "language_info": {
   "codemirror_mode": {
    "name": "ipython",
    "version": 3
   },
   "file_extension": ".py",
   "mimetype": "text/x-python",
   "name": "python",
   "nbconvert_exporter": "python",
   "pygments_lexer": "ipython3",
   "version": "3.13.2"
  }
 },
 "nbformat": 4,
 "nbformat_minor": 4
}
